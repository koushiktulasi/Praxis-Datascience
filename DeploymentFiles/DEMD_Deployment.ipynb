{
 "cells": [
  {
   "cell_type": "code",
   "execution_count": 71,
   "metadata": {},
   "outputs": [],
   "source": [
    "import pandas as pd\n",
    "import numpy as np\n",
    "import pickle"
   ]
  },
  {
   "cell_type": "code",
   "execution_count": 5,
   "metadata": {
    "scrolled": true
   },
   "outputs": [],
   "source": [
    "df=pd.read_excel('Concrete_Data.xls')"
   ]
  },
  {
   "cell_type": "code",
   "execution_count": 6,
   "metadata": {},
   "outputs": [
    {
     "name": "stdout",
     "output_type": "stream",
     "text": [
      "<class 'pandas.core.frame.DataFrame'>\n",
      "RangeIndex: 1030 entries, 0 to 1029\n",
      "Data columns (total 9 columns):\n",
      " #   Column                                                 Non-Null Count  Dtype  \n",
      "---  ------                                                 --------------  -----  \n",
      " 0   Cement (component 1)(kg in a m^3 mixture)              1030 non-null   float64\n",
      " 1   Blast Furnace Slag (component 2)(kg in a m^3 mixture)  1030 non-null   float64\n",
      " 2   Fly Ash (component 3)(kg in a m^3 mixture)             1030 non-null   float64\n",
      " 3   Water  (component 4)(kg in a m^3 mixture)              1030 non-null   float64\n",
      " 4   Superplasticizer (component 5)(kg in a m^3 mixture)    1030 non-null   float64\n",
      " 5   Coarse Aggregate  (component 6)(kg in a m^3 mixture)   1030 non-null   float64\n",
      " 6   Fine Aggregate (component 7)(kg in a m^3 mixture)      1030 non-null   float64\n",
      " 7   Age (day)                                              1030 non-null   int64  \n",
      " 8   Concrete compressive strength(MPa, megapascals)        1030 non-null   float64\n",
      "dtypes: float64(8), int64(1)\n",
      "memory usage: 72.5 KB\n"
     ]
    }
   ],
   "source": [
    "df.info()"
   ]
  },
  {
   "cell_type": "code",
   "execution_count": 7,
   "metadata": {},
   "outputs": [
    {
     "data": {
      "text/plain": [
       "Cement (component 1)(kg in a m^3 mixture)                0\n",
       "Blast Furnace Slag (component 2)(kg in a m^3 mixture)    0\n",
       "Fly Ash (component 3)(kg in a m^3 mixture)               0\n",
       "Water  (component 4)(kg in a m^3 mixture)                0\n",
       "Superplasticizer (component 5)(kg in a m^3 mixture)      0\n",
       "Coarse Aggregate  (component 6)(kg in a m^3 mixture)     0\n",
       "Fine Aggregate (component 7)(kg in a m^3 mixture)        0\n",
       "Age (day)                                                0\n",
       "Concrete compressive strength(MPa, megapascals)          0\n",
       "dtype: int64"
      ]
     },
     "execution_count": 7,
     "metadata": {},
     "output_type": "execute_result"
    }
   ],
   "source": [
    "df.isnull().sum()"
   ]
  },
  {
   "cell_type": "code",
   "execution_count": 8,
   "metadata": {},
   "outputs": [
    {
     "data": {
      "text/html": [
       "<div>\n",
       "<style scoped>\n",
       "    .dataframe tbody tr th:only-of-type {\n",
       "        vertical-align: middle;\n",
       "    }\n",
       "\n",
       "    .dataframe tbody tr th {\n",
       "        vertical-align: top;\n",
       "    }\n",
       "\n",
       "    .dataframe thead th {\n",
       "        text-align: right;\n",
       "    }\n",
       "</style>\n",
       "<table border=\"1\" class=\"dataframe\">\n",
       "  <thead>\n",
       "    <tr style=\"text-align: right;\">\n",
       "      <th></th>\n",
       "      <th>Cement (component 1)(kg in a m^3 mixture)</th>\n",
       "      <th>Blast Furnace Slag (component 2)(kg in a m^3 mixture)</th>\n",
       "      <th>Fly Ash (component 3)(kg in a m^3 mixture)</th>\n",
       "      <th>Water  (component 4)(kg in a m^3 mixture)</th>\n",
       "      <th>Superplasticizer (component 5)(kg in a m^3 mixture)</th>\n",
       "      <th>Coarse Aggregate  (component 6)(kg in a m^3 mixture)</th>\n",
       "      <th>Fine Aggregate (component 7)(kg in a m^3 mixture)</th>\n",
       "      <th>Age (day)</th>\n",
       "      <th>Concrete compressive strength(MPa, megapascals)</th>\n",
       "    </tr>\n",
       "  </thead>\n",
       "  <tbody>\n",
       "    <tr>\n",
       "      <th>Cement (component 1)(kg in a m^3 mixture)</th>\n",
       "      <td>1.000000</td>\n",
       "      <td>-0.275193</td>\n",
       "      <td>-0.397475</td>\n",
       "      <td>-0.081544</td>\n",
       "      <td>0.092771</td>\n",
       "      <td>-0.109356</td>\n",
       "      <td>-0.222720</td>\n",
       "      <td>0.081947</td>\n",
       "      <td>0.497833</td>\n",
       "    </tr>\n",
       "    <tr>\n",
       "      <th>Blast Furnace Slag (component 2)(kg in a m^3 mixture)</th>\n",
       "      <td>-0.275193</td>\n",
       "      <td>1.000000</td>\n",
       "      <td>-0.323569</td>\n",
       "      <td>0.107286</td>\n",
       "      <td>0.043376</td>\n",
       "      <td>-0.283998</td>\n",
       "      <td>-0.281593</td>\n",
       "      <td>-0.044246</td>\n",
       "      <td>0.134824</td>\n",
       "    </tr>\n",
       "    <tr>\n",
       "      <th>Fly Ash (component 3)(kg in a m^3 mixture)</th>\n",
       "      <td>-0.397475</td>\n",
       "      <td>-0.323569</td>\n",
       "      <td>1.000000</td>\n",
       "      <td>-0.257044</td>\n",
       "      <td>0.377340</td>\n",
       "      <td>-0.009977</td>\n",
       "      <td>0.079076</td>\n",
       "      <td>-0.154370</td>\n",
       "      <td>-0.105753</td>\n",
       "    </tr>\n",
       "    <tr>\n",
       "      <th>Water  (component 4)(kg in a m^3 mixture)</th>\n",
       "      <td>-0.081544</td>\n",
       "      <td>0.107286</td>\n",
       "      <td>-0.257044</td>\n",
       "      <td>1.000000</td>\n",
       "      <td>-0.657464</td>\n",
       "      <td>-0.182312</td>\n",
       "      <td>-0.450635</td>\n",
       "      <td>0.277604</td>\n",
       "      <td>-0.289613</td>\n",
       "    </tr>\n",
       "    <tr>\n",
       "      <th>Superplasticizer (component 5)(kg in a m^3 mixture)</th>\n",
       "      <td>0.092771</td>\n",
       "      <td>0.043376</td>\n",
       "      <td>0.377340</td>\n",
       "      <td>-0.657464</td>\n",
       "      <td>1.000000</td>\n",
       "      <td>-0.266303</td>\n",
       "      <td>0.222501</td>\n",
       "      <td>-0.192717</td>\n",
       "      <td>0.366102</td>\n",
       "    </tr>\n",
       "    <tr>\n",
       "      <th>Coarse Aggregate  (component 6)(kg in a m^3 mixture)</th>\n",
       "      <td>-0.109356</td>\n",
       "      <td>-0.283998</td>\n",
       "      <td>-0.009977</td>\n",
       "      <td>-0.182312</td>\n",
       "      <td>-0.266303</td>\n",
       "      <td>1.000000</td>\n",
       "      <td>-0.178506</td>\n",
       "      <td>-0.003016</td>\n",
       "      <td>-0.164928</td>\n",
       "    </tr>\n",
       "    <tr>\n",
       "      <th>Fine Aggregate (component 7)(kg in a m^3 mixture)</th>\n",
       "      <td>-0.222720</td>\n",
       "      <td>-0.281593</td>\n",
       "      <td>0.079076</td>\n",
       "      <td>-0.450635</td>\n",
       "      <td>0.222501</td>\n",
       "      <td>-0.178506</td>\n",
       "      <td>1.000000</td>\n",
       "      <td>-0.156094</td>\n",
       "      <td>-0.167249</td>\n",
       "    </tr>\n",
       "    <tr>\n",
       "      <th>Age (day)</th>\n",
       "      <td>0.081947</td>\n",
       "      <td>-0.044246</td>\n",
       "      <td>-0.154370</td>\n",
       "      <td>0.277604</td>\n",
       "      <td>-0.192717</td>\n",
       "      <td>-0.003016</td>\n",
       "      <td>-0.156094</td>\n",
       "      <td>1.000000</td>\n",
       "      <td>0.328877</td>\n",
       "    </tr>\n",
       "    <tr>\n",
       "      <th>Concrete compressive strength(MPa, megapascals)</th>\n",
       "      <td>0.497833</td>\n",
       "      <td>0.134824</td>\n",
       "      <td>-0.105753</td>\n",
       "      <td>-0.289613</td>\n",
       "      <td>0.366102</td>\n",
       "      <td>-0.164928</td>\n",
       "      <td>-0.167249</td>\n",
       "      <td>0.328877</td>\n",
       "      <td>1.000000</td>\n",
       "    </tr>\n",
       "  </tbody>\n",
       "</table>\n",
       "</div>"
      ],
      "text/plain": [
       "                                                    Cement (component 1)(kg in a m^3 mixture)  \\\n",
       "Cement (component 1)(kg in a m^3 mixture)                                            1.000000   \n",
       "Blast Furnace Slag (component 2)(kg in a m^3 mi...                                  -0.275193   \n",
       "Fly Ash (component 3)(kg in a m^3 mixture)                                          -0.397475   \n",
       "Water  (component 4)(kg in a m^3 mixture)                                           -0.081544   \n",
       "Superplasticizer (component 5)(kg in a m^3 mixt...                                   0.092771   \n",
       "Coarse Aggregate  (component 6)(kg in a m^3 mix...                                  -0.109356   \n",
       "Fine Aggregate (component 7)(kg in a m^3 mixture)                                   -0.222720   \n",
       "Age (day)                                                                            0.081947   \n",
       "Concrete compressive strength(MPa, megapascals)                                      0.497833   \n",
       "\n",
       "                                                    Blast Furnace Slag (component 2)(kg in a m^3 mixture)  \\\n",
       "Cement (component 1)(kg in a m^3 mixture)                                                   -0.275193       \n",
       "Blast Furnace Slag (component 2)(kg in a m^3 mi...                                           1.000000       \n",
       "Fly Ash (component 3)(kg in a m^3 mixture)                                                  -0.323569       \n",
       "Water  (component 4)(kg in a m^3 mixture)                                                    0.107286       \n",
       "Superplasticizer (component 5)(kg in a m^3 mixt...                                           0.043376       \n",
       "Coarse Aggregate  (component 6)(kg in a m^3 mix...                                          -0.283998       \n",
       "Fine Aggregate (component 7)(kg in a m^3 mixture)                                           -0.281593       \n",
       "Age (day)                                                                                   -0.044246       \n",
       "Concrete compressive strength(MPa, megapascals)                                              0.134824       \n",
       "\n",
       "                                                    Fly Ash (component 3)(kg in a m^3 mixture)  \\\n",
       "Cement (component 1)(kg in a m^3 mixture)                                            -0.397475   \n",
       "Blast Furnace Slag (component 2)(kg in a m^3 mi...                                   -0.323569   \n",
       "Fly Ash (component 3)(kg in a m^3 mixture)                                            1.000000   \n",
       "Water  (component 4)(kg in a m^3 mixture)                                            -0.257044   \n",
       "Superplasticizer (component 5)(kg in a m^3 mixt...                                    0.377340   \n",
       "Coarse Aggregate  (component 6)(kg in a m^3 mix...                                   -0.009977   \n",
       "Fine Aggregate (component 7)(kg in a m^3 mixture)                                     0.079076   \n",
       "Age (day)                                                                            -0.154370   \n",
       "Concrete compressive strength(MPa, megapascals)                                      -0.105753   \n",
       "\n",
       "                                                    Water  (component 4)(kg in a m^3 mixture)  \\\n",
       "Cement (component 1)(kg in a m^3 mixture)                                           -0.081544   \n",
       "Blast Furnace Slag (component 2)(kg in a m^3 mi...                                   0.107286   \n",
       "Fly Ash (component 3)(kg in a m^3 mixture)                                          -0.257044   \n",
       "Water  (component 4)(kg in a m^3 mixture)                                            1.000000   \n",
       "Superplasticizer (component 5)(kg in a m^3 mixt...                                  -0.657464   \n",
       "Coarse Aggregate  (component 6)(kg in a m^3 mix...                                  -0.182312   \n",
       "Fine Aggregate (component 7)(kg in a m^3 mixture)                                   -0.450635   \n",
       "Age (day)                                                                            0.277604   \n",
       "Concrete compressive strength(MPa, megapascals)                                     -0.289613   \n",
       "\n",
       "                                                    Superplasticizer (component 5)(kg in a m^3 mixture)  \\\n",
       "Cement (component 1)(kg in a m^3 mixture)                                                    0.092771     \n",
       "Blast Furnace Slag (component 2)(kg in a m^3 mi...                                           0.043376     \n",
       "Fly Ash (component 3)(kg in a m^3 mixture)                                                   0.377340     \n",
       "Water  (component 4)(kg in a m^3 mixture)                                                   -0.657464     \n",
       "Superplasticizer (component 5)(kg in a m^3 mixt...                                           1.000000     \n",
       "Coarse Aggregate  (component 6)(kg in a m^3 mix...                                          -0.266303     \n",
       "Fine Aggregate (component 7)(kg in a m^3 mixture)                                            0.222501     \n",
       "Age (day)                                                                                   -0.192717     \n",
       "Concrete compressive strength(MPa, megapascals)                                              0.366102     \n",
       "\n",
       "                                                    Coarse Aggregate  (component 6)(kg in a m^3 mixture)  \\\n",
       "Cement (component 1)(kg in a m^3 mixture)                                                   -0.109356      \n",
       "Blast Furnace Slag (component 2)(kg in a m^3 mi...                                          -0.283998      \n",
       "Fly Ash (component 3)(kg in a m^3 mixture)                                                  -0.009977      \n",
       "Water  (component 4)(kg in a m^3 mixture)                                                   -0.182312      \n",
       "Superplasticizer (component 5)(kg in a m^3 mixt...                                          -0.266303      \n",
       "Coarse Aggregate  (component 6)(kg in a m^3 mix...                                           1.000000      \n",
       "Fine Aggregate (component 7)(kg in a m^3 mixture)                                           -0.178506      \n",
       "Age (day)                                                                                   -0.003016      \n",
       "Concrete compressive strength(MPa, megapascals)                                             -0.164928      \n",
       "\n",
       "                                                    Fine Aggregate (component 7)(kg in a m^3 mixture)  \\\n",
       "Cement (component 1)(kg in a m^3 mixture)                                                   -0.222720   \n",
       "Blast Furnace Slag (component 2)(kg in a m^3 mi...                                          -0.281593   \n",
       "Fly Ash (component 3)(kg in a m^3 mixture)                                                   0.079076   \n",
       "Water  (component 4)(kg in a m^3 mixture)                                                   -0.450635   \n",
       "Superplasticizer (component 5)(kg in a m^3 mixt...                                           0.222501   \n",
       "Coarse Aggregate  (component 6)(kg in a m^3 mix...                                          -0.178506   \n",
       "Fine Aggregate (component 7)(kg in a m^3 mixture)                                            1.000000   \n",
       "Age (day)                                                                                   -0.156094   \n",
       "Concrete compressive strength(MPa, megapascals)                                             -0.167249   \n",
       "\n",
       "                                                    Age (day)  \\\n",
       "Cement (component 1)(kg in a m^3 mixture)            0.081947   \n",
       "Blast Furnace Slag (component 2)(kg in a m^3 mi...  -0.044246   \n",
       "Fly Ash (component 3)(kg in a m^3 mixture)          -0.154370   \n",
       "Water  (component 4)(kg in a m^3 mixture)            0.277604   \n",
       "Superplasticizer (component 5)(kg in a m^3 mixt...  -0.192717   \n",
       "Coarse Aggregate  (component 6)(kg in a m^3 mix...  -0.003016   \n",
       "Fine Aggregate (component 7)(kg in a m^3 mixture)   -0.156094   \n",
       "Age (day)                                            1.000000   \n",
       "Concrete compressive strength(MPa, megapascals)      0.328877   \n",
       "\n",
       "                                                    Concrete compressive strength(MPa, megapascals)   \n",
       "Cement (component 1)(kg in a m^3 mixture)                                                   0.497833  \n",
       "Blast Furnace Slag (component 2)(kg in a m^3 mi...                                          0.134824  \n",
       "Fly Ash (component 3)(kg in a m^3 mixture)                                                 -0.105753  \n",
       "Water  (component 4)(kg in a m^3 mixture)                                                  -0.289613  \n",
       "Superplasticizer (component 5)(kg in a m^3 mixt...                                          0.366102  \n",
       "Coarse Aggregate  (component 6)(kg in a m^3 mix...                                         -0.164928  \n",
       "Fine Aggregate (component 7)(kg in a m^3 mixture)                                          -0.167249  \n",
       "Age (day)                                                                                   0.328877  \n",
       "Concrete compressive strength(MPa, megapascals)                                             1.000000  "
      ]
     },
     "execution_count": 8,
     "metadata": {},
     "output_type": "execute_result"
    }
   ],
   "source": [
    "df.corr()"
   ]
  },
  {
   "cell_type": "code",
   "execution_count": 12,
   "metadata": {},
   "outputs": [
    {
     "data": {
      "text/plain": [
       "Cement (component 1)(kg in a m^3 mixture)                1\n",
       "Blast Furnace Slag (component 2)(kg in a m^3 mixture)    1\n",
       "Fly Ash (component 3)(kg in a m^3 mixture)               1\n",
       "Water  (component 4)(kg in a m^3 mixture)                1\n",
       "Superplasticizer (component 5)(kg in a m^3 mixture)      1\n",
       "Coarse Aggregate  (component 6)(kg in a m^3 mixture)     1\n",
       "Fine Aggregate (component 7)(kg in a m^3 mixture)        1\n",
       "Age (day)                                                1\n",
       "Concrete compressive strength(MPa, megapascals)          1\n",
       "dtype: int64"
      ]
     },
     "execution_count": 12,
     "metadata": {},
     "output_type": "execute_result"
    }
   ],
   "source": [
    "(df.corr() > 0.6).sum()"
   ]
  },
  {
   "cell_type": "code",
   "execution_count": 15,
   "metadata": {},
   "outputs": [],
   "source": [
    "df.columns = ['Cement','Blast Furnace','Fly Ash','Water','Superplasticizer','Coarseaggregate','Fineaggregate','Age','Concrete_compressive_strength']"
   ]
  },
  {
   "cell_type": "code",
   "execution_count": 16,
   "metadata": {},
   "outputs": [],
   "source": [
    "from sklearn.model_selection import train_test_split as TTS\n",
    "\n",
    "train , valid = TTS(df, train_size = 0.8)\n"
   ]
  },
  {
   "cell_type": "code",
   "execution_count": 57,
   "metadata": {},
   "outputs": [
    {
     "data": {
      "text/html": [
       "<div>\n",
       "<style scoped>\n",
       "    .dataframe tbody tr th:only-of-type {\n",
       "        vertical-align: middle;\n",
       "    }\n",
       "\n",
       "    .dataframe tbody tr th {\n",
       "        vertical-align: top;\n",
       "    }\n",
       "\n",
       "    .dataframe thead th {\n",
       "        text-align: right;\n",
       "    }\n",
       "</style>\n",
       "<table border=\"1\" class=\"dataframe\">\n",
       "  <thead>\n",
       "    <tr style=\"text-align: right;\">\n",
       "      <th></th>\n",
       "      <th>Cement</th>\n",
       "      <th>Blast Furnace</th>\n",
       "      <th>Fly Ash</th>\n",
       "      <th>Water</th>\n",
       "      <th>Superplasticizer</th>\n",
       "      <th>Coarseaggregate</th>\n",
       "      <th>Fineaggregate</th>\n",
       "      <th>Age</th>\n",
       "    </tr>\n",
       "  </thead>\n",
       "  <tbody>\n",
       "    <tr>\n",
       "      <th>458</th>\n",
       "      <td>165.0</td>\n",
       "      <td>0.02</td>\n",
       "      <td>143.57</td>\n",
       "      <td>163.81</td>\n",
       "      <td>0.00</td>\n",
       "      <td>1005.6</td>\n",
       "      <td>900.9</td>\n",
       "      <td>100</td>\n",
       "    </tr>\n",
       "    <tr>\n",
       "      <th>639</th>\n",
       "      <td>400.0</td>\n",
       "      <td>0.00</td>\n",
       "      <td>0.00</td>\n",
       "      <td>187.00</td>\n",
       "      <td>0.00</td>\n",
       "      <td>1025.0</td>\n",
       "      <td>745.0</td>\n",
       "      <td>28</td>\n",
       "    </tr>\n",
       "    <tr>\n",
       "      <th>1014</th>\n",
       "      <td>132.0</td>\n",
       "      <td>206.50</td>\n",
       "      <td>160.90</td>\n",
       "      <td>178.90</td>\n",
       "      <td>5.50</td>\n",
       "      <td>866.9</td>\n",
       "      <td>735.6</td>\n",
       "      <td>28</td>\n",
       "    </tr>\n",
       "    <tr>\n",
       "      <th>173</th>\n",
       "      <td>318.8</td>\n",
       "      <td>212.50</td>\n",
       "      <td>0.00</td>\n",
       "      <td>155.70</td>\n",
       "      <td>14.30</td>\n",
       "      <td>852.1</td>\n",
       "      <td>880.4</td>\n",
       "      <td>91</td>\n",
       "    </tr>\n",
       "    <tr>\n",
       "      <th>543</th>\n",
       "      <td>255.0</td>\n",
       "      <td>0.00</td>\n",
       "      <td>0.00</td>\n",
       "      <td>192.00</td>\n",
       "      <td>0.00</td>\n",
       "      <td>889.8</td>\n",
       "      <td>945.0</td>\n",
       "      <td>7</td>\n",
       "    </tr>\n",
       "    <tr>\n",
       "      <th>...</th>\n",
       "      <td>...</td>\n",
       "      <td>...</td>\n",
       "      <td>...</td>\n",
       "      <td>...</td>\n",
       "      <td>...</td>\n",
       "      <td>...</td>\n",
       "      <td>...</td>\n",
       "      <td>...</td>\n",
       "    </tr>\n",
       "    <tr>\n",
       "      <th>451</th>\n",
       "      <td>167.0</td>\n",
       "      <td>75.40</td>\n",
       "      <td>167.00</td>\n",
       "      <td>164.03</td>\n",
       "      <td>7.91</td>\n",
       "      <td>1007.3</td>\n",
       "      <td>770.1</td>\n",
       "      <td>56</td>\n",
       "    </tr>\n",
       "    <tr>\n",
       "      <th>609</th>\n",
       "      <td>236.0</td>\n",
       "      <td>0.00</td>\n",
       "      <td>0.00</td>\n",
       "      <td>193.00</td>\n",
       "      <td>0.00</td>\n",
       "      <td>968.0</td>\n",
       "      <td>885.0</td>\n",
       "      <td>180</td>\n",
       "    </tr>\n",
       "    <tr>\n",
       "      <th>1018</th>\n",
       "      <td>321.4</td>\n",
       "      <td>0.00</td>\n",
       "      <td>127.90</td>\n",
       "      <td>182.50</td>\n",
       "      <td>11.50</td>\n",
       "      <td>870.1</td>\n",
       "      <td>779.7</td>\n",
       "      <td>28</td>\n",
       "    </tr>\n",
       "    <tr>\n",
       "      <th>561</th>\n",
       "      <td>397.0</td>\n",
       "      <td>0.00</td>\n",
       "      <td>0.00</td>\n",
       "      <td>185.70</td>\n",
       "      <td>0.00</td>\n",
       "      <td>1040.6</td>\n",
       "      <td>734.3</td>\n",
       "      <td>28</td>\n",
       "    </tr>\n",
       "    <tr>\n",
       "      <th>610</th>\n",
       "      <td>236.0</td>\n",
       "      <td>0.00</td>\n",
       "      <td>0.00</td>\n",
       "      <td>193.00</td>\n",
       "      <td>0.00</td>\n",
       "      <td>968.0</td>\n",
       "      <td>885.0</td>\n",
       "      <td>365</td>\n",
       "    </tr>\n",
       "  </tbody>\n",
       "</table>\n",
       "<p>824 rows × 8 columns</p>\n",
       "</div>"
      ],
      "text/plain": [
       "      Cement  Blast Furnace  Fly Ash   Water  Superplasticizer  \\\n",
       "458    165.0           0.02   143.57  163.81              0.00   \n",
       "639    400.0           0.00     0.00  187.00              0.00   \n",
       "1014   132.0         206.50   160.90  178.90              5.50   \n",
       "173    318.8         212.50     0.00  155.70             14.30   \n",
       "543    255.0           0.00     0.00  192.00              0.00   \n",
       "...      ...            ...      ...     ...               ...   \n",
       "451    167.0          75.40   167.00  164.03              7.91   \n",
       "609    236.0           0.00     0.00  193.00              0.00   \n",
       "1018   321.4           0.00   127.90  182.50             11.50   \n",
       "561    397.0           0.00     0.00  185.70              0.00   \n",
       "610    236.0           0.00     0.00  193.00              0.00   \n",
       "\n",
       "      Coarseaggregate  Fineaggregate  Age  \n",
       "458            1005.6          900.9  100  \n",
       "639            1025.0          745.0   28  \n",
       "1014            866.9          735.6   28  \n",
       "173             852.1          880.4   91  \n",
       "543             889.8          945.0    7  \n",
       "...               ...            ...  ...  \n",
       "451            1007.3          770.1   56  \n",
       "609             968.0          885.0  180  \n",
       "1018            870.1          779.7   28  \n",
       "561            1040.6          734.3   28  \n",
       "610             968.0          885.0  365  \n",
       "\n",
       "[824 rows x 8 columns]"
      ]
     },
     "execution_count": 57,
     "metadata": {},
     "output_type": "execute_result"
    }
   ],
   "source": [
    "train[predictors]"
   ]
  },
  {
   "cell_type": "code",
   "execution_count": 30,
   "metadata": {},
   "outputs": [],
   "source": [
    "predictors=df.columns.to_list()\n",
    "predictors.remove('Concrete_compressive_strength')"
   ]
  },
  {
   "cell_type": "markdown",
   "metadata": {},
   "source": [
    "# Linear Regression"
   ]
  },
  {
   "cell_type": "code",
   "execution_count": 31,
   "metadata": {},
   "outputs": [],
   "source": [
    "from sklearn.linear_model import LinearRegression\n",
    "lr=LinearRegression()"
   ]
  },
  {
   "cell_type": "code",
   "execution_count": 32,
   "metadata": {},
   "outputs": [
    {
     "data": {
      "text/plain": [
       "LinearRegression()"
      ]
     },
     "execution_count": 32,
     "metadata": {},
     "output_type": "execute_result"
    }
   ],
   "source": [
    "lr.fit(train[predictors],train[\"Concrete_compressive_strength\"])"
   ]
  },
  {
   "cell_type": "code",
   "execution_count": 34,
   "metadata": {
    "scrolled": true
   },
   "outputs": [],
   "source": [
    "predictions = lr.predict(valid[predictors])"
   ]
  },
  {
   "cell_type": "code",
   "execution_count": 35,
   "metadata": {},
   "outputs": [],
   "source": [
    "from sklearn.metrics import mean_squared_error\n",
    "MSE = mean_squared_error(valid['Concrete_compressive_strength'], predictions)\n",
    "RMSE = np.sqrt(MSE)\n",
    "RMSE_percent = (RMSE/np.mean(valid['Concrete_compressive_strength'],))*100"
   ]
  },
  {
   "cell_type": "code",
   "execution_count": 36,
   "metadata": {},
   "outputs": [
    {
     "data": {
      "text/plain": [
       "28.467396060992012"
      ]
     },
     "execution_count": 36,
     "metadata": {},
     "output_type": "execute_result"
    }
   ],
   "source": [
    "RMSE_percent"
   ]
  },
  {
   "cell_type": "markdown",
   "metadata": {},
   "source": [
    "# Decision Tree Regression"
   ]
  },
  {
   "cell_type": "code",
   "execution_count": 37,
   "metadata": {},
   "outputs": [
    {
     "data": {
      "text/plain": [
       "DecisionTreeRegressor()"
      ]
     },
     "execution_count": 37,
     "metadata": {},
     "output_type": "execute_result"
    }
   ],
   "source": [
    "from sklearn.tree import DecisionTreeRegressor\n",
    "dt = DecisionTreeRegressor(min_samples_split = 2)\n",
    "dt.fit(train[predictors],train[\"Concrete_compressive_strength\"])"
   ]
  },
  {
   "cell_type": "code",
   "execution_count": 38,
   "metadata": {},
   "outputs": [],
   "source": [
    "predictions_dt = dt.predict(valid[predictors])"
   ]
  },
  {
   "cell_type": "code",
   "execution_count": 39,
   "metadata": {},
   "outputs": [],
   "source": [
    "MSE = mean_squared_error(valid['Concrete_compressive_strength'], predictions_dt)\n",
    "RMSE = np.sqrt(MSE)\n",
    "RMSE_percent = (RMSE/np.mean(valid['Concrete_compressive_strength'],))*100"
   ]
  },
  {
   "cell_type": "code",
   "execution_count": 40,
   "metadata": {},
   "outputs": [
    {
     "data": {
      "text/plain": [
       "17.34473938711147"
      ]
     },
     "execution_count": 40,
     "metadata": {},
     "output_type": "execute_result"
    }
   ],
   "source": [
    "RMSE_percent"
   ]
  },
  {
   "cell_type": "markdown",
   "metadata": {},
   "source": [
    "# Random Forest Regression"
   ]
  },
  {
   "cell_type": "code",
   "execution_count": 63,
   "metadata": {},
   "outputs": [
    {
     "data": {
      "text/plain": [
       "RandomForestRegressor()"
      ]
     },
     "execution_count": 63,
     "metadata": {},
     "output_type": "execute_result"
    }
   ],
   "source": [
    "from sklearn.ensemble import RandomForestRegressor\n",
    "rf=RandomForestRegressor()\n",
    "rf.fit(train[predictors],train[\"Concrete_compressive_strength\"])"
   ]
  },
  {
   "cell_type": "code",
   "execution_count": 64,
   "metadata": {},
   "outputs": [],
   "source": [
    "predictions_rf = rf.predict(valid[predictors])"
   ]
  },
  {
   "cell_type": "code",
   "execution_count": 65,
   "metadata": {},
   "outputs": [],
   "source": [
    "MSE = mean_squared_error(valid['Concrete_compressive_strength'], predictions_rf)\n",
    "RMSE = np.sqrt(MSE)\n",
    "RMSE_percent = (RMSE/np.mean(valid['Concrete_compressive_strength'],))*100"
   ]
  },
  {
   "cell_type": "code",
   "execution_count": 66,
   "metadata": {},
   "outputs": [
    {
     "data": {
      "text/plain": [
       "12.610330477099104"
      ]
     },
     "execution_count": 66,
     "metadata": {},
     "output_type": "execute_result"
    }
   ],
   "source": [
    "RMSE_percent"
   ]
  },
  {
   "cell_type": "markdown",
   "metadata": {},
   "source": [
    "# XGboost Regression"
   ]
  },
  {
   "cell_type": "code",
   "execution_count": 45,
   "metadata": {},
   "outputs": [],
   "source": [
    "from xgboost import XGBRegressor"
   ]
  },
  {
   "cell_type": "code",
   "execution_count": 50,
   "metadata": {},
   "outputs": [],
   "source": [
    "XGBC = XGBRegressor(objective ='reg:squarederror')\n",
    "model_no_tune = XGBC.fit(train[predictors], train['Concrete_compressive_strength'])\n",
    "y_pred = model_no_tune.predict(valid[predictors])\n",
    "MSE = mean_squared_error(valid['Concrete_compressive_strength'], y_pred)\n",
    "RMSE = np.sqrt(MSE)\n",
    "RMSE_percent = (RMSE/np.mean(valid['Concrete_compressive_strength']))*100"
   ]
  },
  {
   "cell_type": "code",
   "execution_count": 51,
   "metadata": {},
   "outputs": [
    {
     "data": {
      "text/plain": [
       "13.35887783758334"
      ]
     },
     "execution_count": 51,
     "metadata": {},
     "output_type": "execute_result"
    }
   ],
   "source": [
    "RMSE_percent"
   ]
  },
  {
   "cell_type": "code",
   "execution_count": 68,
   "metadata": {},
   "outputs": [],
   "source": [
    "# KNN Regression"
   ]
  },
  {
   "cell_type": "code",
   "execution_count": 52,
   "metadata": {},
   "outputs": [],
   "source": [
    "from sklearn import neighbors"
   ]
  },
  {
   "cell_type": "code",
   "execution_count": 54,
   "metadata": {},
   "outputs": [
    {
     "name": "stdout",
     "output_type": "stream",
     "text": [
      "RMSE value for k=  1 is: 9.627106950524258\n",
      "RMSE value for k=  2 is: 8.662323949021253\n",
      "RMSE value for k=  3 is: 8.78006848991445\n",
      "RMSE value for k=  4 is: 9.099465329263824\n",
      "RMSE value for k=  5 is: 9.234443367735102\n",
      "RMSE value for k=  6 is: 9.259662896968528\n",
      "RMSE value for k=  7 is: 9.503776554756927\n",
      "RMSE value for k=  8 is: 9.507640314140923\n",
      "RMSE value for k=  9 is: 9.633959586385725\n",
      "RMSE value for k=  10 is: 9.831818931816063\n",
      "RMSE value for k=  11 is: 10.034610437392974\n",
      "RMSE value for k=  12 is: 10.22397005246337\n",
      "RMSE value for k=  13 is: 10.299394184912584\n",
      "RMSE value for k=  14 is: 10.455769142883591\n",
      "RMSE value for k=  15 is: 10.525317501513767\n",
      "RMSE value for k=  16 is: 10.577659868539289\n",
      "RMSE value for k=  17 is: 10.73665874211552\n",
      "RMSE value for k=  18 is: 10.746442670370678\n",
      "RMSE value for k=  19 is: 10.895665438294778\n",
      "RMSE value for k=  20 is: 10.981058247464512\n"
     ]
    }
   ],
   "source": [
    "rmse_val = [] #to store rmse values for different k\n",
    "for K in range(20):\n",
    "    K = K+1\n",
    "    model = neighbors.KNeighborsRegressor(n_neighbors = K)\n",
    "\n",
    "    model.fit(train[predictors], train['Concrete_compressive_strength'])  #fit the model\n",
    "    pred=model.predict(valid[predictors]) #make prediction on test set\n",
    "    error = np.sqrt(mean_squared_error(valid['Concrete_compressive_strength'],pred)) #calculate rmse\n",
    "    rmse_val.append(error) #store rmse values\n",
    "    print('RMSE value for k= ' , K , 'is:', error)"
   ]
  },
  {
   "cell_type": "code",
   "execution_count": 55,
   "metadata": {},
   "outputs": [
    {
     "data": {
      "text/plain": [
       "8.662323949021253"
      ]
     },
     "execution_count": 55,
     "metadata": {},
     "output_type": "execute_result"
    }
   ],
   "source": [
    "min(rmse_val)"
   ]
  },
  {
   "cell_type": "code",
   "execution_count": 56,
   "metadata": {},
   "outputs": [
    {
     "data": {
      "text/plain": [
       "8.662323949021253"
      ]
     },
     "execution_count": 56,
     "metadata": {},
     "output_type": "execute_result"
    }
   ],
   "source": [
    "model = neighbors.KNeighborsRegressor(n_neighbors = 2)\n",
    "model.fit(train[predictors], train['Concrete_compressive_strength'])  #fit the model\n",
    "pred=model.predict(valid[predictors]) #make prediction on test set\n",
    "error = np.sqrt(mean_squared_error(valid['Concrete_compressive_strength'],pred))\n",
    "error"
   ]
  },
  {
   "cell_type": "code",
   "execution_count": null,
   "metadata": {},
   "outputs": [],
   "source": []
  },
  {
   "cell_type": "code",
   "execution_count": 72,
   "metadata": {},
   "outputs": [
    {
     "data": {
      "text/plain": [
       "KNeighborsRegressor(n_neighbors=2)"
      ]
     },
     "execution_count": 72,
     "metadata": {},
     "output_type": "execute_result"
    }
   ],
   "source": [
    "knn = neighbors.KNeighborsRegressor(n_neighbors = 2)\n",
    "knn.fit(train[predictors], train['Concrete_compressive_strength'])"
   ]
  },
  {
   "cell_type": "code",
   "execution_count": 74,
   "metadata": {},
   "outputs": [
    {
     "data": {
      "text/html": [
       "<div>\n",
       "<style scoped>\n",
       "    .dataframe tbody tr th:only-of-type {\n",
       "        vertical-align: middle;\n",
       "    }\n",
       "\n",
       "    .dataframe tbody tr th {\n",
       "        vertical-align: top;\n",
       "    }\n",
       "\n",
       "    .dataframe thead th {\n",
       "        text-align: right;\n",
       "    }\n",
       "</style>\n",
       "<table border=\"1\" class=\"dataframe\">\n",
       "  <thead>\n",
       "    <tr style=\"text-align: right;\">\n",
       "      <th></th>\n",
       "      <th>Cement</th>\n",
       "      <th>Blast Furnace</th>\n",
       "      <th>Fly Ash</th>\n",
       "      <th>Water</th>\n",
       "      <th>Superplasticizer</th>\n",
       "      <th>Coarseaggregate</th>\n",
       "      <th>Fineaggregate</th>\n",
       "      <th>Age</th>\n",
       "    </tr>\n",
       "  </thead>\n",
       "  <tbody>\n",
       "    <tr>\n",
       "      <th>608</th>\n",
       "      <td>236.00</td>\n",
       "      <td>0.0</td>\n",
       "      <td>0.00</td>\n",
       "      <td>194.00</td>\n",
       "      <td>0.00</td>\n",
       "      <td>968.00</td>\n",
       "      <td>885.00</td>\n",
       "      <td>90</td>\n",
       "    </tr>\n",
       "    <tr>\n",
       "      <th>1016</th>\n",
       "      <td>164.20</td>\n",
       "      <td>0.0</td>\n",
       "      <td>200.10</td>\n",
       "      <td>181.20</td>\n",
       "      <td>12.60</td>\n",
       "      <td>849.30</td>\n",
       "      <td>846.00</td>\n",
       "      <td>28</td>\n",
       "    </tr>\n",
       "    <tr>\n",
       "      <th>506</th>\n",
       "      <td>491.00</td>\n",
       "      <td>26.0</td>\n",
       "      <td>123.00</td>\n",
       "      <td>201.00</td>\n",
       "      <td>3.93</td>\n",
       "      <td>822.00</td>\n",
       "      <td>699.00</td>\n",
       "      <td>56</td>\n",
       "    </tr>\n",
       "    <tr>\n",
       "      <th>389</th>\n",
       "      <td>500.10</td>\n",
       "      <td>0.0</td>\n",
       "      <td>0.00</td>\n",
       "      <td>200.00</td>\n",
       "      <td>3.00</td>\n",
       "      <td>1124.40</td>\n",
       "      <td>613.20</td>\n",
       "      <td>28</td>\n",
       "    </tr>\n",
       "    <tr>\n",
       "      <th>715</th>\n",
       "      <td>141.30</td>\n",
       "      <td>212.0</td>\n",
       "      <td>0.00</td>\n",
       "      <td>203.50</td>\n",
       "      <td>0.00</td>\n",
       "      <td>971.80</td>\n",
       "      <td>748.50</td>\n",
       "      <td>90</td>\n",
       "    </tr>\n",
       "    <tr>\n",
       "      <th>...</th>\n",
       "      <td>...</td>\n",
       "      <td>...</td>\n",
       "      <td>...</td>\n",
       "      <td>...</td>\n",
       "      <td>...</td>\n",
       "      <td>...</td>\n",
       "      <td>...</td>\n",
       "      <td>...</td>\n",
       "    </tr>\n",
       "    <tr>\n",
       "      <th>119</th>\n",
       "      <td>425.00</td>\n",
       "      <td>106.3</td>\n",
       "      <td>0.00</td>\n",
       "      <td>151.40</td>\n",
       "      <td>18.60</td>\n",
       "      <td>936.00</td>\n",
       "      <td>803.70</td>\n",
       "      <td>28</td>\n",
       "    </tr>\n",
       "    <tr>\n",
       "      <th>504</th>\n",
       "      <td>491.00</td>\n",
       "      <td>26.0</td>\n",
       "      <td>123.00</td>\n",
       "      <td>201.00</td>\n",
       "      <td>3.93</td>\n",
       "      <td>822.00</td>\n",
       "      <td>699.00</td>\n",
       "      <td>3</td>\n",
       "    </tr>\n",
       "    <tr>\n",
       "      <th>186</th>\n",
       "      <td>222.36</td>\n",
       "      <td>0.0</td>\n",
       "      <td>96.67</td>\n",
       "      <td>189.29</td>\n",
       "      <td>4.46</td>\n",
       "      <td>967.08</td>\n",
       "      <td>870.32</td>\n",
       "      <td>28</td>\n",
       "    </tr>\n",
       "    <tr>\n",
       "      <th>304</th>\n",
       "      <td>277.05</td>\n",
       "      <td>0.0</td>\n",
       "      <td>97.39</td>\n",
       "      <td>160.60</td>\n",
       "      <td>11.83</td>\n",
       "      <td>973.90</td>\n",
       "      <td>875.61</td>\n",
       "      <td>3</td>\n",
       "    </tr>\n",
       "    <tr>\n",
       "      <th>665</th>\n",
       "      <td>173.00</td>\n",
       "      <td>116.0</td>\n",
       "      <td>0.00</td>\n",
       "      <td>192.00</td>\n",
       "      <td>0.00</td>\n",
       "      <td>946.80</td>\n",
       "      <td>856.80</td>\n",
       "      <td>7</td>\n",
       "    </tr>\n",
       "  </tbody>\n",
       "</table>\n",
       "<p>206 rows × 8 columns</p>\n",
       "</div>"
      ],
      "text/plain": [
       "      Cement  Blast Furnace  Fly Ash   Water  Superplasticizer  \\\n",
       "608   236.00            0.0     0.00  194.00              0.00   \n",
       "1016  164.20            0.0   200.10  181.20             12.60   \n",
       "506   491.00           26.0   123.00  201.00              3.93   \n",
       "389   500.10            0.0     0.00  200.00              3.00   \n",
       "715   141.30          212.0     0.00  203.50              0.00   \n",
       "...      ...            ...      ...     ...               ...   \n",
       "119   425.00          106.3     0.00  151.40             18.60   \n",
       "504   491.00           26.0   123.00  201.00              3.93   \n",
       "186   222.36            0.0    96.67  189.29              4.46   \n",
       "304   277.05            0.0    97.39  160.60             11.83   \n",
       "665   173.00          116.0     0.00  192.00              0.00   \n",
       "\n",
       "      Coarseaggregate  Fineaggregate  Age  \n",
       "608            968.00         885.00   90  \n",
       "1016           849.30         846.00   28  \n",
       "506            822.00         699.00   56  \n",
       "389           1124.40         613.20   28  \n",
       "715            971.80         748.50   90  \n",
       "...               ...            ...  ...  \n",
       "119            936.00         803.70   28  \n",
       "504            822.00         699.00    3  \n",
       "186            967.08         870.32   28  \n",
       "304            973.90         875.61    3  \n",
       "665            946.80         856.80    7  \n",
       "\n",
       "[206 rows x 8 columns]"
      ]
     },
     "execution_count": 74,
     "metadata": {},
     "output_type": "execute_result"
    }
   ],
   "source": [
    "valid[predictors]"
   ]
  },
  {
   "cell_type": "code",
   "execution_count": 84,
   "metadata": {},
   "outputs": [
    {
     "name": "stdout",
     "output_type": "stream",
     "text": [
      "[41.55127114]\n"
     ]
    }
   ],
   "source": [
    "#Saving model to disk\n",
    "pickle.dump(knn,open('modelknn.pkl','wb'))\n",
    "\n",
    "#Loading model to compare the results\n",
    "model=pickle.load(open('modelknn.pkl','rb'))\n",
    "print(model.predict([valid[predictors].loc[119].to_list()]))"
   ]
  },
  {
   "cell_type": "code",
   "execution_count": null,
   "metadata": {},
   "outputs": [],
   "source": []
  }
 ],
 "metadata": {
  "kernelspec": {
   "display_name": "Python 3",
   "language": "python",
   "name": "python3"
  },
  "language_info": {
   "codemirror_mode": {
    "name": "ipython",
    "version": 3
   },
   "file_extension": ".py",
   "mimetype": "text/x-python",
   "name": "python",
   "nbconvert_exporter": "python",
   "pygments_lexer": "ipython3",
   "version": "3.7.4"
  }
 },
 "nbformat": 4,
 "nbformat_minor": 2
}
