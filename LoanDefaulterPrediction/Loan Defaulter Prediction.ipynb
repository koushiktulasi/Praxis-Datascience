{
 "cells": [
  {
   "cell_type": "markdown",
   "metadata": {},
   "source": [
    "# Overview of the Project"
   ]
  },
  {
   "cell_type": "markdown",
   "metadata": {},
   "source": [
    "In this Project we will focus on credit modelling, a well-known data science problem that focuses on modeling a borrower's credit risk. Credit has played a key role in the economy for centuries and some form of credit has existed since the beginning of commerce. We'll be working with financial lending data from Lending Club. Lending Club is a marketplace for personal loans that matches borrowers who are seeking a loan with investors looking to lend money and make a return.\n",
    "\n",
    "Each borrower completes a comprehensive application, providing their past financial history, the reason for the loan, and more. Lending Club evaluates each borrower's credit score using past historical data and their own data science process to assign an interest rate to the borrower. The interest rate is the percent in addition to the requested loan amount the borrower has to pay back.Lending Club also tries to verify all the information the borrower provides but it can't verify all of the information (usually for regulation reasons).\n",
    "\n",
    "A higher interest rate means that the borrower is a risk and more unlikely to pay back the loan. While a lower interest rate means that the borrower has a good credit history and is more likely to pay back the loan. The interest rates range from 5.32% all the way to 30.99% and each borrower is given a grade according to the interest rate they were assigned. If the borrower accepts the interest rate, then the loan is listed on the Lending Club marketplace.\n",
    "\n",
    "Investors are primarily interested in receiving a return on their investments. Approved loans are listed on the Lending Club website, where qualified investors can browse recently approved loans, the borrower's credit score, the purpose for the loan, and other information from the application. Once they're ready to back a loan, they select the amount of money they want to fund. Once a loan's requested amount is fully funded, the borrower receives the money they requested minus the origination fee that Lending Club charges.\n",
    "\n",
    "The borrower will make monthly payments back to Lending Club either over 36 months or over 60 months. Lending Club redistributes these payments to the investors. This means that investors don't have to wait until the full amount is paid off before they see a return in money. If a loan is fully paid off on time, the investors make a return which corresponds to the interest rate the borrower had to pay in addition to the requested amount. Many loans aren't completely paid off on time and some borrowers default on the loan.\n",
    "\n",
    "Most investors use a portfolio strategy to invest small amounts in many loans, with healthy mixes of low, medium, and interest loans. In our project we'll focus on the mindset of a conservative investor who only wants to invest in the loans that have a good chance of being paid off on time. To do that, we will need to first understand the features in the dataset and then experiment with building machine learning models that reliably predict if a loan will be paid off or not."
   ]
  },
  {
   "cell_type": "markdown",
   "metadata": {},
   "source": [
    "## About Dataset"
   ]
  },
  {
   "cell_type": "markdown",
   "metadata": {},
   "source": [
    "We have a approved loans dataset from 2007-2011 from lending club contains information on current loans, completed loans, and defaulted loans.\n",
    "\n",
    "Machine Learning Problem : Can we build a machine learning model that can accurately predict if a borrower will pay off their loan on time or not?\n",
    "\n"
   ]
  },
  {
   "cell_type": "markdown",
   "metadata": {},
   "source": [
    "# Exploratory Data Analysis(EDA)"
   ]
  },
  {
   "cell_type": "markdown",
   "metadata": {},
   "source": [
    "Let's explore the dataset and do some data cleaning,feature enigineering and selection if required and prepare the data for application of machine learning model to make predictions."
   ]
  },
  {
   "cell_type": "code",
   "execution_count": 1,
   "metadata": {},
   "outputs": [],
   "source": [
    "import pandas as pd\n",
    "import numpy as np\n",
    "import matplotlib.pyplot as plt\n",
    "%matplotlib inline\n",
    "from IPython.display import display\n",
    "pd.options.display.max_columns = None\n",
    "import seaborn as sns\n",
    "from sklearn.linear_model import LogisticRegression\n",
    "from sklearn.ensemble import RandomForestClassifier\n",
    "from sklearn import metrics\n",
    "from sklearn.preprocessing import MinMaxScaler, StandardScaler, LabelEncoder\n",
    "from sklearn.feature_selection import SelectKBest\n",
    "from sklearn.pipeline import Pipeline\n",
    "from sklearn.model_selection import train_test_split, GridSearchCV, RandomizedSearchCV\n",
    "from imblearn.over_sampling import SMOTE"
   ]
  },
  {
   "cell_type": "code",
   "execution_count": 2,
   "metadata": {},
   "outputs": [
    {
     "name": "stderr",
     "output_type": "stream",
     "text": [
      "C:\\Users\\Koushik\\Anaconda3\\lib\\site-packages\\IPython\\core\\interactiveshell.py:3058: DtypeWarning: Columns (0) have mixed types. Specify dtype option on import or set low_memory=False.\n",
      "  interactivity=interactivity, compiler=compiler, result=result)\n"
     ]
    }
   ],
   "source": [
    "# Reading Dataset\n",
    "loans = pd.read_csv('loans_2007.csv')"
   ]
  },
  {
   "cell_type": "code",
   "execution_count": 3,
   "metadata": {},
   "outputs": [
    {
     "data": {
      "text/html": [
       "<div>\n",
       "<style scoped>\n",
       "    .dataframe tbody tr th:only-of-type {\n",
       "        vertical-align: middle;\n",
       "    }\n",
       "\n",
       "    .dataframe tbody tr th {\n",
       "        vertical-align: top;\n",
       "    }\n",
       "\n",
       "    .dataframe thead th {\n",
       "        text-align: right;\n",
       "    }\n",
       "</style>\n",
       "<table border=\"1\" class=\"dataframe\">\n",
       "  <thead>\n",
       "    <tr style=\"text-align: right;\">\n",
       "      <th></th>\n",
       "      <th>id</th>\n",
       "      <th>member_id</th>\n",
       "      <th>loan_amnt</th>\n",
       "      <th>funded_amnt</th>\n",
       "      <th>funded_amnt_inv</th>\n",
       "      <th>term</th>\n",
       "      <th>int_rate</th>\n",
       "      <th>installment</th>\n",
       "      <th>grade</th>\n",
       "      <th>sub_grade</th>\n",
       "      <th>emp_title</th>\n",
       "      <th>emp_length</th>\n",
       "      <th>home_ownership</th>\n",
       "      <th>annual_inc</th>\n",
       "      <th>verification_status</th>\n",
       "      <th>issue_d</th>\n",
       "      <th>loan_status</th>\n",
       "      <th>pymnt_plan</th>\n",
       "      <th>purpose</th>\n",
       "      <th>title</th>\n",
       "      <th>zip_code</th>\n",
       "      <th>addr_state</th>\n",
       "      <th>dti</th>\n",
       "      <th>delinq_2yrs</th>\n",
       "      <th>earliest_cr_line</th>\n",
       "      <th>inq_last_6mths</th>\n",
       "      <th>open_acc</th>\n",
       "      <th>pub_rec</th>\n",
       "      <th>revol_bal</th>\n",
       "      <th>revol_util</th>\n",
       "      <th>total_acc</th>\n",
       "      <th>initial_list_status</th>\n",
       "      <th>out_prncp</th>\n",
       "      <th>out_prncp_inv</th>\n",
       "      <th>total_pymnt</th>\n",
       "      <th>total_pymnt_inv</th>\n",
       "      <th>total_rec_prncp</th>\n",
       "      <th>total_rec_int</th>\n",
       "      <th>total_rec_late_fee</th>\n",
       "      <th>recoveries</th>\n",
       "      <th>collection_recovery_fee</th>\n",
       "      <th>last_pymnt_d</th>\n",
       "      <th>last_pymnt_amnt</th>\n",
       "      <th>last_credit_pull_d</th>\n",
       "      <th>collections_12_mths_ex_med</th>\n",
       "      <th>policy_code</th>\n",
       "      <th>application_type</th>\n",
       "      <th>acc_now_delinq</th>\n",
       "      <th>chargeoff_within_12_mths</th>\n",
       "      <th>delinq_amnt</th>\n",
       "      <th>pub_rec_bankruptcies</th>\n",
       "      <th>tax_liens</th>\n",
       "    </tr>\n",
       "  </thead>\n",
       "  <tbody>\n",
       "    <tr>\n",
       "      <td>0</td>\n",
       "      <td>1077501</td>\n",
       "      <td>1296599.0</td>\n",
       "      <td>5000.0</td>\n",
       "      <td>5000.0</td>\n",
       "      <td>4975.0</td>\n",
       "      <td>36 months</td>\n",
       "      <td>10.65%</td>\n",
       "      <td>162.87</td>\n",
       "      <td>B</td>\n",
       "      <td>B2</td>\n",
       "      <td>NaN</td>\n",
       "      <td>10+ years</td>\n",
       "      <td>RENT</td>\n",
       "      <td>24000.0</td>\n",
       "      <td>Verified</td>\n",
       "      <td>Dec-2011</td>\n",
       "      <td>Fully Paid</td>\n",
       "      <td>n</td>\n",
       "      <td>credit_card</td>\n",
       "      <td>Computer</td>\n",
       "      <td>860xx</td>\n",
       "      <td>AZ</td>\n",
       "      <td>27.65</td>\n",
       "      <td>0.0</td>\n",
       "      <td>Jan-1985</td>\n",
       "      <td>1.0</td>\n",
       "      <td>3.0</td>\n",
       "      <td>0.0</td>\n",
       "      <td>13648.0</td>\n",
       "      <td>83.7%</td>\n",
       "      <td>9.0</td>\n",
       "      <td>f</td>\n",
       "      <td>0.00</td>\n",
       "      <td>0.00</td>\n",
       "      <td>5863.155187</td>\n",
       "      <td>5833.84</td>\n",
       "      <td>5000.00</td>\n",
       "      <td>863.16</td>\n",
       "      <td>0.00</td>\n",
       "      <td>0.00</td>\n",
       "      <td>0.00</td>\n",
       "      <td>Jan-2015</td>\n",
       "      <td>171.62</td>\n",
       "      <td>Jun-2016</td>\n",
       "      <td>0.0</td>\n",
       "      <td>1.0</td>\n",
       "      <td>INDIVIDUAL</td>\n",
       "      <td>0.0</td>\n",
       "      <td>0.0</td>\n",
       "      <td>0.0</td>\n",
       "      <td>0.0</td>\n",
       "      <td>0.0</td>\n",
       "    </tr>\n",
       "    <tr>\n",
       "      <td>1</td>\n",
       "      <td>1077430</td>\n",
       "      <td>1314167.0</td>\n",
       "      <td>2500.0</td>\n",
       "      <td>2500.0</td>\n",
       "      <td>2500.0</td>\n",
       "      <td>60 months</td>\n",
       "      <td>15.27%</td>\n",
       "      <td>59.83</td>\n",
       "      <td>C</td>\n",
       "      <td>C4</td>\n",
       "      <td>Ryder</td>\n",
       "      <td>&lt; 1 year</td>\n",
       "      <td>RENT</td>\n",
       "      <td>30000.0</td>\n",
       "      <td>Source Verified</td>\n",
       "      <td>Dec-2011</td>\n",
       "      <td>Charged Off</td>\n",
       "      <td>n</td>\n",
       "      <td>car</td>\n",
       "      <td>bike</td>\n",
       "      <td>309xx</td>\n",
       "      <td>GA</td>\n",
       "      <td>1.00</td>\n",
       "      <td>0.0</td>\n",
       "      <td>Apr-1999</td>\n",
       "      <td>5.0</td>\n",
       "      <td>3.0</td>\n",
       "      <td>0.0</td>\n",
       "      <td>1687.0</td>\n",
       "      <td>9.4%</td>\n",
       "      <td>4.0</td>\n",
       "      <td>f</td>\n",
       "      <td>0.00</td>\n",
       "      <td>0.00</td>\n",
       "      <td>1008.710000</td>\n",
       "      <td>1008.71</td>\n",
       "      <td>456.46</td>\n",
       "      <td>435.17</td>\n",
       "      <td>0.00</td>\n",
       "      <td>117.08</td>\n",
       "      <td>1.11</td>\n",
       "      <td>Apr-2013</td>\n",
       "      <td>119.66</td>\n",
       "      <td>Sep-2013</td>\n",
       "      <td>0.0</td>\n",
       "      <td>1.0</td>\n",
       "      <td>INDIVIDUAL</td>\n",
       "      <td>0.0</td>\n",
       "      <td>0.0</td>\n",
       "      <td>0.0</td>\n",
       "      <td>0.0</td>\n",
       "      <td>0.0</td>\n",
       "    </tr>\n",
       "    <tr>\n",
       "      <td>2</td>\n",
       "      <td>1077175</td>\n",
       "      <td>1313524.0</td>\n",
       "      <td>2400.0</td>\n",
       "      <td>2400.0</td>\n",
       "      <td>2400.0</td>\n",
       "      <td>36 months</td>\n",
       "      <td>15.96%</td>\n",
       "      <td>84.33</td>\n",
       "      <td>C</td>\n",
       "      <td>C5</td>\n",
       "      <td>NaN</td>\n",
       "      <td>10+ years</td>\n",
       "      <td>RENT</td>\n",
       "      <td>12252.0</td>\n",
       "      <td>Not Verified</td>\n",
       "      <td>Dec-2011</td>\n",
       "      <td>Fully Paid</td>\n",
       "      <td>n</td>\n",
       "      <td>small_business</td>\n",
       "      <td>real estate business</td>\n",
       "      <td>606xx</td>\n",
       "      <td>IL</td>\n",
       "      <td>8.72</td>\n",
       "      <td>0.0</td>\n",
       "      <td>Nov-2001</td>\n",
       "      <td>2.0</td>\n",
       "      <td>2.0</td>\n",
       "      <td>0.0</td>\n",
       "      <td>2956.0</td>\n",
       "      <td>98.5%</td>\n",
       "      <td>10.0</td>\n",
       "      <td>f</td>\n",
       "      <td>0.00</td>\n",
       "      <td>0.00</td>\n",
       "      <td>3005.666844</td>\n",
       "      <td>3005.67</td>\n",
       "      <td>2400.00</td>\n",
       "      <td>605.67</td>\n",
       "      <td>0.00</td>\n",
       "      <td>0.00</td>\n",
       "      <td>0.00</td>\n",
       "      <td>Jun-2014</td>\n",
       "      <td>649.91</td>\n",
       "      <td>Jun-2016</td>\n",
       "      <td>0.0</td>\n",
       "      <td>1.0</td>\n",
       "      <td>INDIVIDUAL</td>\n",
       "      <td>0.0</td>\n",
       "      <td>0.0</td>\n",
       "      <td>0.0</td>\n",
       "      <td>0.0</td>\n",
       "      <td>0.0</td>\n",
       "    </tr>\n",
       "    <tr>\n",
       "      <td>3</td>\n",
       "      <td>1076863</td>\n",
       "      <td>1277178.0</td>\n",
       "      <td>10000.0</td>\n",
       "      <td>10000.0</td>\n",
       "      <td>10000.0</td>\n",
       "      <td>36 months</td>\n",
       "      <td>13.49%</td>\n",
       "      <td>339.31</td>\n",
       "      <td>C</td>\n",
       "      <td>C1</td>\n",
       "      <td>AIR RESOURCES BOARD</td>\n",
       "      <td>10+ years</td>\n",
       "      <td>RENT</td>\n",
       "      <td>49200.0</td>\n",
       "      <td>Source Verified</td>\n",
       "      <td>Dec-2011</td>\n",
       "      <td>Fully Paid</td>\n",
       "      <td>n</td>\n",
       "      <td>other</td>\n",
       "      <td>personel</td>\n",
       "      <td>917xx</td>\n",
       "      <td>CA</td>\n",
       "      <td>20.00</td>\n",
       "      <td>0.0</td>\n",
       "      <td>Feb-1996</td>\n",
       "      <td>1.0</td>\n",
       "      <td>10.0</td>\n",
       "      <td>0.0</td>\n",
       "      <td>5598.0</td>\n",
       "      <td>21%</td>\n",
       "      <td>37.0</td>\n",
       "      <td>f</td>\n",
       "      <td>0.00</td>\n",
       "      <td>0.00</td>\n",
       "      <td>12231.890000</td>\n",
       "      <td>12231.89</td>\n",
       "      <td>10000.00</td>\n",
       "      <td>2214.92</td>\n",
       "      <td>16.97</td>\n",
       "      <td>0.00</td>\n",
       "      <td>0.00</td>\n",
       "      <td>Jan-2015</td>\n",
       "      <td>357.48</td>\n",
       "      <td>Apr-2016</td>\n",
       "      <td>0.0</td>\n",
       "      <td>1.0</td>\n",
       "      <td>INDIVIDUAL</td>\n",
       "      <td>0.0</td>\n",
       "      <td>0.0</td>\n",
       "      <td>0.0</td>\n",
       "      <td>0.0</td>\n",
       "      <td>0.0</td>\n",
       "    </tr>\n",
       "    <tr>\n",
       "      <td>4</td>\n",
       "      <td>1075358</td>\n",
       "      <td>1311748.0</td>\n",
       "      <td>3000.0</td>\n",
       "      <td>3000.0</td>\n",
       "      <td>3000.0</td>\n",
       "      <td>60 months</td>\n",
       "      <td>12.69%</td>\n",
       "      <td>67.79</td>\n",
       "      <td>B</td>\n",
       "      <td>B5</td>\n",
       "      <td>University Medical Group</td>\n",
       "      <td>1 year</td>\n",
       "      <td>RENT</td>\n",
       "      <td>80000.0</td>\n",
       "      <td>Source Verified</td>\n",
       "      <td>Dec-2011</td>\n",
       "      <td>Current</td>\n",
       "      <td>n</td>\n",
       "      <td>other</td>\n",
       "      <td>Personal</td>\n",
       "      <td>972xx</td>\n",
       "      <td>OR</td>\n",
       "      <td>17.94</td>\n",
       "      <td>0.0</td>\n",
       "      <td>Jan-1996</td>\n",
       "      <td>0.0</td>\n",
       "      <td>15.0</td>\n",
       "      <td>0.0</td>\n",
       "      <td>27783.0</td>\n",
       "      <td>53.9%</td>\n",
       "      <td>38.0</td>\n",
       "      <td>f</td>\n",
       "      <td>461.73</td>\n",
       "      <td>461.73</td>\n",
       "      <td>3581.120000</td>\n",
       "      <td>3581.12</td>\n",
       "      <td>2538.27</td>\n",
       "      <td>1042.85</td>\n",
       "      <td>0.00</td>\n",
       "      <td>0.00</td>\n",
       "      <td>0.00</td>\n",
       "      <td>Jun-2016</td>\n",
       "      <td>67.79</td>\n",
       "      <td>Jun-2016</td>\n",
       "      <td>0.0</td>\n",
       "      <td>1.0</td>\n",
       "      <td>INDIVIDUAL</td>\n",
       "      <td>0.0</td>\n",
       "      <td>0.0</td>\n",
       "      <td>0.0</td>\n",
       "      <td>0.0</td>\n",
       "      <td>0.0</td>\n",
       "    </tr>\n",
       "  </tbody>\n",
       "</table>\n",
       "</div>"
      ],
      "text/plain": [
       "        id  member_id  loan_amnt  funded_amnt  funded_amnt_inv        term  \\\n",
       "0  1077501  1296599.0     5000.0       5000.0           4975.0   36 months   \n",
       "1  1077430  1314167.0     2500.0       2500.0           2500.0   60 months   \n",
       "2  1077175  1313524.0     2400.0       2400.0           2400.0   36 months   \n",
       "3  1076863  1277178.0    10000.0      10000.0          10000.0   36 months   \n",
       "4  1075358  1311748.0     3000.0       3000.0           3000.0   60 months   \n",
       "\n",
       "  int_rate  installment grade sub_grade                 emp_title emp_length  \\\n",
       "0   10.65%       162.87     B        B2                       NaN  10+ years   \n",
       "1   15.27%        59.83     C        C4                     Ryder   < 1 year   \n",
       "2   15.96%        84.33     C        C5                       NaN  10+ years   \n",
       "3   13.49%       339.31     C        C1       AIR RESOURCES BOARD  10+ years   \n",
       "4   12.69%        67.79     B        B5  University Medical Group     1 year   \n",
       "\n",
       "  home_ownership  annual_inc verification_status   issue_d  loan_status  \\\n",
       "0           RENT     24000.0            Verified  Dec-2011   Fully Paid   \n",
       "1           RENT     30000.0     Source Verified  Dec-2011  Charged Off   \n",
       "2           RENT     12252.0        Not Verified  Dec-2011   Fully Paid   \n",
       "3           RENT     49200.0     Source Verified  Dec-2011   Fully Paid   \n",
       "4           RENT     80000.0     Source Verified  Dec-2011      Current   \n",
       "\n",
       "  pymnt_plan         purpose                 title zip_code addr_state    dti  \\\n",
       "0          n     credit_card              Computer    860xx         AZ  27.65   \n",
       "1          n             car                  bike    309xx         GA   1.00   \n",
       "2          n  small_business  real estate business    606xx         IL   8.72   \n",
       "3          n           other              personel    917xx         CA  20.00   \n",
       "4          n           other              Personal    972xx         OR  17.94   \n",
       "\n",
       "   delinq_2yrs earliest_cr_line  inq_last_6mths  open_acc  pub_rec  revol_bal  \\\n",
       "0          0.0         Jan-1985             1.0       3.0      0.0    13648.0   \n",
       "1          0.0         Apr-1999             5.0       3.0      0.0     1687.0   \n",
       "2          0.0         Nov-2001             2.0       2.0      0.0     2956.0   \n",
       "3          0.0         Feb-1996             1.0      10.0      0.0     5598.0   \n",
       "4          0.0         Jan-1996             0.0      15.0      0.0    27783.0   \n",
       "\n",
       "  revol_util  total_acc initial_list_status  out_prncp  out_prncp_inv  \\\n",
       "0      83.7%        9.0                   f       0.00           0.00   \n",
       "1       9.4%        4.0                   f       0.00           0.00   \n",
       "2      98.5%       10.0                   f       0.00           0.00   \n",
       "3        21%       37.0                   f       0.00           0.00   \n",
       "4      53.9%       38.0                   f     461.73         461.73   \n",
       "\n",
       "    total_pymnt  total_pymnt_inv  total_rec_prncp  total_rec_int  \\\n",
       "0   5863.155187          5833.84          5000.00         863.16   \n",
       "1   1008.710000          1008.71           456.46         435.17   \n",
       "2   3005.666844          3005.67          2400.00         605.67   \n",
       "3  12231.890000         12231.89         10000.00        2214.92   \n",
       "4   3581.120000          3581.12          2538.27        1042.85   \n",
       "\n",
       "   total_rec_late_fee  recoveries  collection_recovery_fee last_pymnt_d  \\\n",
       "0                0.00        0.00                     0.00     Jan-2015   \n",
       "1                0.00      117.08                     1.11     Apr-2013   \n",
       "2                0.00        0.00                     0.00     Jun-2014   \n",
       "3               16.97        0.00                     0.00     Jan-2015   \n",
       "4                0.00        0.00                     0.00     Jun-2016   \n",
       "\n",
       "   last_pymnt_amnt last_credit_pull_d  collections_12_mths_ex_med  \\\n",
       "0           171.62           Jun-2016                         0.0   \n",
       "1           119.66           Sep-2013                         0.0   \n",
       "2           649.91           Jun-2016                         0.0   \n",
       "3           357.48           Apr-2016                         0.0   \n",
       "4            67.79           Jun-2016                         0.0   \n",
       "\n",
       "   policy_code application_type  acc_now_delinq  chargeoff_within_12_mths  \\\n",
       "0          1.0       INDIVIDUAL             0.0                       0.0   \n",
       "1          1.0       INDIVIDUAL             0.0                       0.0   \n",
       "2          1.0       INDIVIDUAL             0.0                       0.0   \n",
       "3          1.0       INDIVIDUAL             0.0                       0.0   \n",
       "4          1.0       INDIVIDUAL             0.0                       0.0   \n",
       "\n",
       "   delinq_amnt  pub_rec_bankruptcies  tax_liens  \n",
       "0          0.0                   0.0        0.0  \n",
       "1          0.0                   0.0        0.0  \n",
       "2          0.0                   0.0        0.0  \n",
       "3          0.0                   0.0        0.0  \n",
       "4          0.0                   0.0        0.0  "
      ]
     },
     "execution_count": 3,
     "metadata": {},
     "output_type": "execute_result"
    }
   ],
   "source": [
    "loans.head()"
   ]
  },
  {
   "cell_type": "code",
   "execution_count": 4,
   "metadata": {},
   "outputs": [
    {
     "data": {
      "text/plain": [
       "(42538, 52)"
      ]
     },
     "execution_count": 4,
     "metadata": {},
     "output_type": "execute_result"
    }
   ],
   "source": [
    "loans.shape"
   ]
  },
  {
   "cell_type": "code",
   "execution_count": 5,
   "metadata": {},
   "outputs": [
    {
     "name": "stdout",
     "output_type": "stream",
     "text": [
      "<class 'pandas.core.frame.DataFrame'>\n",
      "RangeIndex: 42538 entries, 0 to 42537\n",
      "Data columns (total 52 columns):\n",
      "id                            42538 non-null object\n",
      "member_id                     42535 non-null float64\n",
      "loan_amnt                     42535 non-null float64\n",
      "funded_amnt                   42535 non-null float64\n",
      "funded_amnt_inv               42535 non-null float64\n",
      "term                          42535 non-null object\n",
      "int_rate                      42535 non-null object\n",
      "installment                   42535 non-null float64\n",
      "grade                         42535 non-null object\n",
      "sub_grade                     42535 non-null object\n",
      "emp_title                     39909 non-null object\n",
      "emp_length                    41423 non-null object\n",
      "home_ownership                42535 non-null object\n",
      "annual_inc                    42531 non-null float64\n",
      "verification_status           42535 non-null object\n",
      "issue_d                       42535 non-null object\n",
      "loan_status                   42535 non-null object\n",
      "pymnt_plan                    42535 non-null object\n",
      "purpose                       42535 non-null object\n",
      "title                         42522 non-null object\n",
      "zip_code                      42535 non-null object\n",
      "addr_state                    42535 non-null object\n",
      "dti                           42535 non-null float64\n",
      "delinq_2yrs                   42506 non-null float64\n",
      "earliest_cr_line              42506 non-null object\n",
      "inq_last_6mths                42506 non-null float64\n",
      "open_acc                      42506 non-null float64\n",
      "pub_rec                       42506 non-null float64\n",
      "revol_bal                     42535 non-null float64\n",
      "revol_util                    42445 non-null object\n",
      "total_acc                     42506 non-null float64\n",
      "initial_list_status           42535 non-null object\n",
      "out_prncp                     42535 non-null float64\n",
      "out_prncp_inv                 42535 non-null float64\n",
      "total_pymnt                   42535 non-null float64\n",
      "total_pymnt_inv               42535 non-null float64\n",
      "total_rec_prncp               42535 non-null float64\n",
      "total_rec_int                 42535 non-null float64\n",
      "total_rec_late_fee            42535 non-null float64\n",
      "recoveries                    42535 non-null float64\n",
      "collection_recovery_fee       42535 non-null float64\n",
      "last_pymnt_d                  42452 non-null object\n",
      "last_pymnt_amnt               42535 non-null float64\n",
      "last_credit_pull_d            42531 non-null object\n",
      "collections_12_mths_ex_med    42390 non-null float64\n",
      "policy_code                   42535 non-null float64\n",
      "application_type              42535 non-null object\n",
      "acc_now_delinq                42506 non-null float64\n",
      "chargeoff_within_12_mths      42390 non-null float64\n",
      "delinq_amnt                   42506 non-null float64\n",
      "pub_rec_bankruptcies          41170 non-null float64\n",
      "tax_liens                     42430 non-null float64\n",
      "dtypes: float64(30), object(22)\n",
      "memory usage: 16.9+ MB\n"
     ]
    }
   ],
   "source": [
    "loans.info()"
   ]
  },
  {
   "cell_type": "markdown",
   "metadata": {},
   "source": [
    "Data Frame contains 42,538 rows and 52 columns so there are many columns in dataframe now let's look all columns and try to understand which features are useful and which is not useful based on domain knowledge and make feature selection process.\n",
    "\n",
    "There are total 52 columns we will look set of 18 columns each to know which columns are really useful for our prediction\n",
    "\n",
    "I have a data dictionary consists information about all columns https://docs.google.com/spreadsheets/d/191B2yJ4H1ZPXq0_ByhUgWMFZOYem5jFz0Y3by_7YBY4/edit#gid=2081333097\n",
    "\n",
    "id -\tobject\t-\tA unique LC assigned ID for the loan listing.\n",
    "\n",
    "member_id -\tfloat64\t - \tA unique LC assigned Id for the borrower member.\n",
    "\n",
    "loan_amnt - float64\t-\tThe listed amount of the loan applied for by the borrower.\n",
    "\n",
    "funded_amnt\t- float64 -\tThe total amount committed to that loan at that point in time.\n",
    "\n",
    "funded_amnt_inv\t- float64 - The total amount committed by investors for that loan at that point in time.\n",
    "\n",
    "term -\tobject\t-\tThe number of payments on the loan. Values are in months and can be either 36 or 60.\n",
    "\n",
    "int_rate -\tobject - Interest Rate on the loan\n",
    "\n",
    "installment - \tfloat64 -\tThe monthly payment owed by the borrower if the loan originates.\n",
    "\n",
    "grade -\tobject - LC assigned loan grade\n",
    "\n",
    "sub_grade - object - LC assigned loan subgrade\n",
    "\n",
    "emp_title -\tobject - The job title supplied by the Borrower when applying for the loan.\n",
    "\n",
    "emp_length - object\t-\tEmployment length in years. Possible values are between 0 and 10 where 0 means less than one year and 10 means ten or more years.\n",
    "\n",
    "home_ownership - object - The home ownership status provided by the borrower during registration. Our values are: RENT, OWN, MORTGAGE, OTHER.\n",
    "\n",
    "annual_inc - float64\t-\tThe self-reported annual income provided by the borrower during registration.\n",
    "\n",
    "verification_status -\tobject\t-\tIndicates if income was verified by LC, not verified, or if the income source was verified\n",
    "\n",
    "issue_d - object - The month which the loan was funded\n",
    "\n",
    "loan_status - object -\tCurrent status of the loan\n",
    "\n",
    "pymnt_plan -\tobject\t-\tIndicates if a payment plan has been put in place for the loan\n",
    "\n",
    "purpose - object - A category provided by the borrower for the loan request."
   ]
  },
  {
   "cell_type": "markdown",
   "metadata": {},
   "source": [
    "After Analyzing some columns there the columns which is generated id for each record and there are some columns which data leakage from feature i.e which now in training data these are available but while predicting loan can be paid off or not these columns are not useful for our model.\n",
    "\n",
    "id: randomly generated field by Lending Club for unique identification purposes only\n",
    "\n",
    "member_id: also a randomly generated field by Lending Club for unique identification purposes only\n",
    "\n",
    "funded_amnt: leaks data from the future (after the loan is already started to be funded)\n",
    "\n",
    "funded_amnt_inv: also leaks data from the future (after the loan is already started to be funded)\n",
    "\n",
    "grade: contains redundant information as the interest rate column (int_rate)\n",
    "\n",
    "sub_grade: also contains redundant information as the interest rate column (int_rate)\n",
    "\n",
    "emp_title: requires other data and a lot of processing to potentially be useful\n",
    "\n",
    "issue_d: leaks data from the future (after the loan is already completely funded)\n",
    "\n",
    "             Grade and SubGrade are categorical and created based on intrest rate which is continuous variable which is useful for our machine learning.\n",
    "\n",
    "So we can drop the above columns which are not useful for our modeling"
   ]
  },
  {
   "cell_type": "code",
   "execution_count": 6,
   "metadata": {},
   "outputs": [],
   "source": [
    "loans_d = loans.copy()"
   ]
  },
  {
   "cell_type": "code",
   "execution_count": 7,
   "metadata": {},
   "outputs": [],
   "source": [
    "loans_d.drop(['id','member_id','funded_amnt','funded_amnt_inv','grade','sub_grade','emp_title','issue_d'],axis=1,inplace=True)"
   ]
  },
  {
   "cell_type": "markdown",
   "metadata": {},
   "source": [
    "Now let's look next 18 columns for feature selection\n",
    "\n",
    "title -\tobject\t-\tThe loan title provided by the borrower\n",
    "\n",
    "zip_code -\tobject\t-\tThe first 3 numbers of the zip code provided by the borrower in the loan application.\n",
    "\n",
    "addr_state - object\t-\tThe state provided by the borrower in the loan application\n",
    "\n",
    "dti - float64 -\tA ratio calculated using the borrower’s total monthly debt payments on the total debt obligations, excluding mortgage and the requested LC loan, divided by the borrower’s self-reported monthly income.\n",
    "\n",
    "delinq_2yrs\t- float64\t-\tThe number of 30+ days past-due incidences of delinquency in the borrower's credit file for the past 2 years\n",
    "\n",
    "earliest_cr_line -\tobject - The month the borrower's earliest reported credit line was opened\n",
    "\n",
    "inq_last_6mths - float64 - The number of inquiries in past 6 months (excluding auto and mortgage inquiries)\n",
    "\n",
    "open_acc -\tfloat64 -\tThe number of open credit lines in the borrower's credit file.\n",
    "\n",
    "pub_rec - float64\t-\tNumber of derogatory public records\n",
    "\n",
    "revol_bal -\tfloat64\t-\tTotal credit revolving balance\n",
    "\n",
    "revol_util - object\t-\tRevolving line utilization rate, or the amount of credit the borrower is using relative to all available revolving credit.\n",
    "\n",
    "total_acc -\tfloat64\t- The total number of credit lines currently in the borrower's credit file\n",
    "\n",
    "initial_list_status -\tobject\t-\tThe initial listing status of the loan. Possible values are – W, F\n",
    "\n",
    "out_prncp -\tfloat64\t-\tRemaining outstanding principal for total amount funded\n",
    "\n",
    "out_prncp_inv -\tfloat64\t-\tRemaining outstanding principal for portion of total amount funded by investors\n",
    "\n",
    "total_pymnt - float64 - Payments received to date for total amount funded\n",
    "\n",
    "total_pymnt_inv -\tfloat64\t-\tPayments received to date for portion of total amount funded by investors\n",
    "\n",
    "total_rec_prncp - float64\t- principal received to date"
   ]
  },
  {
   "cell_type": "markdown",
   "metadata": {},
   "source": [
    "In the above columns some columns again found which are from future and some redundunt columns\n",
    "\n",
    "zip_code: redundant with the addr_state column since only the first 3 digits of the 5-digit zip code are visible (which can only be used to identify the state the borrower lives in)\n",
    "\n",
    "out_prncp: leaks data from the future, (after the loan already started to be paid off)\n",
    "\n",
    "out_prncp_inv: also leaks data from the future, (after the loan already started to be paid off)\n",
    "\n",
    "total_pymnt: also leaks data from the future, (after the loan already started to be paid off)\n",
    "\n",
    "total_pymnt_inv: also leaks data from the future, (after the loan already started to be paid off)\n",
    "\n",
    "total_rec_prncp: also leaks data from the future, (after the loan already started to be paid off)\n",
    "\n",
    "The columns out_prncp and out_prncp_inv both describe the outstanding principal amount for a loan, which is the remaining amount the borrower still owes. These 2 columns as well as the total_pymnt column describe properties of the loan after it's fully funded and started to be paid off. This information isn't available to an investor before the loan is fully funded and we don't want to include it in our model."
   ]
  },
  {
   "cell_type": "code",
   "execution_count": 8,
   "metadata": {},
   "outputs": [],
   "source": [
    "loans_d.drop(['zip_code','out_prncp','out_prncp_inv','total_pymnt','total_pymnt_inv','total_rec_prncp'],axis=1,inplace=True)"
   ]
  },
  {
   "cell_type": "markdown",
   "metadata": {},
   "source": [
    "Last set of 18 columns\n",
    "\n",
    "total_rec_int -\tfloat64\t-\tInterest received to date\n",
    "\n",
    "total_rec_late_fee - float64\t-\tLate fees received to date\n",
    "\n",
    "recoveries - float64 - post charge off gross recovery\n",
    "\n",
    "collection_recovery_fee\t- float64\t-\tpost charge off collection fee\n",
    "\n",
    "last_pymnt_d -\tobject - Last month payment was received\n",
    "\n",
    "last_pymnt_amnt - float64\t- Last total payment amount received\n",
    "\n",
    "last_credit_pull_d - object\t-\tThe most recent month LC pulled credit for this loan\n",
    "\n",
    "collections_12_mths_ex_med - float64 - Number of collections in 12 months excluding medical collections\n",
    "\n",
    "policy_code -\tfloat64\t-\tpublicly available policy_code=1 new products not publicly available policy_code=2\n",
    "\n",
    "application_type -\tobject - Indicates whether the loan is an individual application or a joint application with two co-borrowers\n",
    "\n",
    "acc_now_delinq - float64 -\tThe number of accounts on which the borrower is now delinquent.\n",
    "\n",
    "chargeoff_within_12_mths -\tfloat64\t-\tNumber of charge-offs within 12 months\n",
    "\n",
    "delinq_amnt -\tfloat64\t-\tThe past-due amount owed for the accounts on which the borrower is now delinquent.\n",
    "\n",
    "pub_rec_bankruptcies - float64 - Number of public record bankruptcies\n",
    "\n",
    "tax_liens -\tfloat64\t-\tNumber of tax liens\n",
    "\n",
    "  In the above columns these are the columns leak data from the future, meaning that they're describing aspects of the loan after it's already been fully funded and started to be paid off by the borrower.\n",
    "  \n",
    "  \n",
    "  \n",
    " total_rec_int: leaks data from the future, (after the loan has started to be paid off)\n",
    "  \n",
    "total_rec_late_fee: leaks data from the future, (after the loan has started to be paid off)\n",
    "\n",
    "recoveries: leaks data from the future, (after the loan has started to be paid off)\n",
    "\n",
    "collection_recovery_fee: leaks data from the future, (after the loan has started to be paid off)\n",
    "\n",
    "last_pymnt_d: leaks data from the future, (after the loan has started to be paid off)\n",
    "\n",
    "last_pymnt_amnt: leaks data from the future, (after the loan has started to be paid off).\n",
    "\n",
    "So dropping above columns from dataframe"
   ]
  },
  {
   "cell_type": "code",
   "execution_count": 9,
   "metadata": {},
   "outputs": [],
   "source": [
    "loans_d.drop(['total_rec_int','total_rec_late_fee','recoveries','collection_recovery_fee','last_pymnt_d','last_pymnt_amnt'],axis=1,inplace = True)"
   ]
  },
  {
   "cell_type": "code",
   "execution_count": 10,
   "metadata": {},
   "outputs": [
    {
     "data": {
      "text/plain": [
       "(42538, 32)"
      ]
     },
     "execution_count": 10,
     "metadata": {},
     "output_type": "execute_result"
    }
   ],
   "source": [
    "loans_d.shape"
   ]
  },
  {
   "cell_type": "markdown",
   "metadata": {},
   "source": [
    "## Target Column"
   ]
  },
  {
   "cell_type": "markdown",
   "metadata": {},
   "source": [
    "Finally, we were able to reduce the number of columns from 52 to 32 columns. We now need to decide on a target column that we want to use for modeling.\n",
    "\n",
    "loan_status: column is the only column that directly describes if a loan was paid off on time, had delayed payments, or was defaulted on the borrower. So we consider loan_status column as target column. Currently, this column contains text values and we need to convert it to a numerical value for training a model. Let's explore the different values in this column and come up with a strategy for converting the values in this column."
   ]
  },
  {
   "cell_type": "code",
   "execution_count": 11,
   "metadata": {},
   "outputs": [
    {
     "data": {
      "text/plain": [
       "Fully Paid                                             33136\n",
       "Charged Off                                             5634\n",
       "Does not meet the credit policy. Status:Fully Paid      1988\n",
       "Current                                                  961\n",
       "Does not meet the credit policy. Status:Charged Off      761\n",
       "Late (31-120 days)                                        24\n",
       "In Grace Period                                           20\n",
       "Late (16-30 days)                                          8\n",
       "Default                                                    3\n",
       "Name: loan_status, dtype: int64"
      ]
     },
     "execution_count": 11,
     "metadata": {},
     "output_type": "execute_result"
    }
   ],
   "source": [
    "loans_d[\"loan_status\"].value_counts()"
   ]
  },
  {
   "cell_type": "markdown",
   "metadata": {},
   "source": [
    "In loan_status column there are 8 unique values and following are the description of each value (found from google search and domain expert)\n",
    "\n",
    "Fully Paid\t- Loan has been fully paid off.\n",
    "Charged Off\t- Loan for which there is no longer a reasonable expectation of further payments.\n",
    "Does not meet the credit policy. Status:Fully Paid\t- While the loan was paid off, the loan application today would no longer meet the credit policy and wouldn't be approved on to the marketplace.\n",
    "Does not meet the credit policy. Status:Charged Off\t-\tWhile the loan was charged off, the loan application today would no longer meet the credit policy and wouldn't be approved on to the marketplace.\n",
    "In Grace Period\t-\tThe loan is past due but still in the grace period of 15 days.\n",
    "Late (16-30 days)\t-\tLoan hasn't been paid in 16 to 30 days (late on the current payment).\n",
    "Late (31-120 days)\t-\tLoan hasn't been paid in 31 to 120 days (late on the current payment).\n",
    "Current\t-\tLoan is up to date on current payments.\n",
    "Default\t-\tLoan is defaulted on and no payment has been made for more than 121 days.\n",
    "\n",
    " Since we're interested in trying to predict whether loans will be paid off on time. Only the Fully Paid and Charged Off values describe the final outcome of the loan. The other values describe loans that are still ongoing and cant say paid on time or not.\n",
    " \n",
    " Since we're interested in being able to predict which of these 2 values a loan will fall under, we can treat the problem as a binary classification one. Let's remove all the loans that don't contain either Fully Paid or Charged Off as the loan's status. After the removal of the loan statuses, then transform the Fully Paid values to 1 for the positive case and the Charged Off values to 0 for the negative case"
   ]
  },
  {
   "cell_type": "code",
   "execution_count": 12,
   "metadata": {},
   "outputs": [],
   "source": [
    "loans_d = loans_d[(loans_d['loan_status'] == \"Fully Paid\") | (loans_d['loan_status'] == \"Charged Off\")]\n",
    "\n",
    "status_replace = {\n",
    "    \"loan_status\" : {\n",
    "        \"Fully Paid\": 1,\n",
    "        \"Charged Off\": 0,\n",
    "    }\n",
    "}\n",
    "\n",
    "loans_d = loans_d.replace(status_replace)"
   ]
  },
  {
   "cell_type": "markdown",
   "metadata": {},
   "source": [
    "Lets explore the existing columns if any column have one unique value i.e whixh does not give any information for our loan predixtion target column"
   ]
  },
  {
   "cell_type": "code",
   "execution_count": 13,
   "metadata": {},
   "outputs": [
    {
     "name": "stdout",
     "output_type": "stream",
     "text": [
      "pymnt_plan\n",
      "initial_list_status\n",
      "collections_12_mths_ex_med\n",
      "policy_code\n",
      "application_type\n",
      "acc_now_delinq\n",
      "chargeoff_within_12_mths\n",
      "delinq_amnt\n",
      "tax_liens\n"
     ]
    }
   ],
   "source": [
    "for i in loans_d.columns:\n",
    "    unique = loans_d[i].dropna().unique()\n",
    "    if(len(unique) == 1):\n",
    "        print(i)"
   ]
  },
  {
   "cell_type": "markdown",
   "metadata": {},
   "source": [
    "Fortunately, we found 9 columns which have only one unique value which are not usefull as dependent variable for prediction so we can drop these columns"
   ]
  },
  {
   "cell_type": "code",
   "execution_count": 14,
   "metadata": {},
   "outputs": [],
   "source": [
    "drop_columns=[]\n",
    "for i in loans_d.columns:\n",
    "    unique=loans_d[i].dropna().unique()\n",
    "    if(len(unique) == 1):\n",
    "        drop_columns.append(i)\n",
    "loans_d = loans_d.drop(drop_columns,axis=1) "
   ]
  },
  {
   "cell_type": "code",
   "execution_count": 15,
   "metadata": {},
   "outputs": [
    {
     "data": {
      "text/plain": [
       "(38770, 23)"
      ]
     },
     "execution_count": 15,
     "metadata": {},
     "output_type": "execute_result"
    }
   ],
   "source": [
    "loans_d.shape"
   ]
  },
  {
   "cell_type": "markdown",
   "metadata": {},
   "source": [
    "## Handling missing values"
   ]
  },
  {
   "cell_type": "markdown",
   "metadata": {},
   "source": [
    "Lets explore how many missing values are there in dataset and try to handle it since scikit machine learning assumes the data has no missing values and all columns are numeric before applying machine learning model from scikit library so we have to handle missing values and convert all columns into numeric"
   ]
  },
  {
   "cell_type": "code",
   "execution_count": 16,
   "metadata": {},
   "outputs": [
    {
     "data": {
      "text/plain": [
       "loan_amnt                  0\n",
       "term                       0\n",
       "int_rate                   0\n",
       "installment                0\n",
       "emp_length              1036\n",
       "home_ownership             0\n",
       "annual_inc                 0\n",
       "verification_status        0\n",
       "loan_status                0\n",
       "purpose                    0\n",
       "title                     11\n",
       "addr_state                 0\n",
       "dti                        0\n",
       "delinq_2yrs                0\n",
       "earliest_cr_line           0\n",
       "inq_last_6mths             0\n",
       "open_acc                   0\n",
       "pub_rec                    0\n",
       "revol_bal                  0\n",
       "revol_util                50\n",
       "total_acc                  0\n",
       "last_credit_pull_d         2\n",
       "pub_rec_bankruptcies     697\n",
       "dtype: int64"
      ]
     },
     "execution_count": 16,
     "metadata": {},
     "output_type": "execute_result"
    }
   ],
   "source": [
    "#Missing values\n",
    "loans_d.isnull().sum()"
   ]
  },
  {
   "cell_type": "markdown",
   "metadata": {},
   "source": [
    "There are 5 columns have missing values and only 2 columns have little high number of missing values.\n",
    "Empl_length column is useful as per domain knowledge that we see employee experience in assessing borrowers risk analysis so even though we have little high number of missing values we will keep this column.\n",
    "\n",
    "Now lets explore public_rec_bankruptcies column"
   ]
  },
  {
   "cell_type": "code",
   "execution_count": 17,
   "metadata": {},
   "outputs": [
    {
     "data": {
      "text/plain": [
       "0.0    0.939438\n",
       "1.0    0.042456\n",
       "NaN    0.017978\n",
       "2.0    0.000129\n",
       "Name: pub_rec_bankruptcies, dtype: float64"
      ]
     },
     "execution_count": 17,
     "metadata": {},
     "output_type": "execute_result"
    }
   ],
   "source": [
    "loans_d.pub_rec_bankruptcies.value_counts(normalize=True, dropna=False)"
   ]
  },
  {
   "cell_type": "markdown",
   "metadata": {},
   "source": [
    "As you see the pub_rec_bankruptcies columns mostly 93% values are belongs to one category and 4% to another category so this column dont have ability to predict target so we can drop this column"
   ]
  },
  {
   "cell_type": "code",
   "execution_count": 18,
   "metadata": {},
   "outputs": [],
   "source": [
    "loans_d.drop('pub_rec_bankruptcies',axis=1,inplace = True)"
   ]
  },
  {
   "cell_type": "markdown",
   "metadata": {},
   "source": [
    "Now remaining missing values in column have less than 5% of dataset we can drop the rows with null values"
   ]
  },
  {
   "cell_type": "code",
   "execution_count": 19,
   "metadata": {},
   "outputs": [],
   "source": [
    "loans_d.dropna(inplace=True)"
   ]
  },
  {
   "cell_type": "code",
   "execution_count": 20,
   "metadata": {},
   "outputs": [
    {
     "data": {
      "text/plain": [
       "loan_amnt              0\n",
       "term                   0\n",
       "int_rate               0\n",
       "installment            0\n",
       "emp_length             0\n",
       "home_ownership         0\n",
       "annual_inc             0\n",
       "verification_status    0\n",
       "loan_status            0\n",
       "purpose                0\n",
       "title                  0\n",
       "addr_state             0\n",
       "dti                    0\n",
       "delinq_2yrs            0\n",
       "earliest_cr_line       0\n",
       "inq_last_6mths         0\n",
       "open_acc               0\n",
       "pub_rec                0\n",
       "revol_bal              0\n",
       "revol_util             0\n",
       "total_acc              0\n",
       "last_credit_pull_d     0\n",
       "dtype: int64"
      ]
     },
     "execution_count": 20,
     "metadata": {},
     "output_type": "execute_result"
    }
   ],
   "source": [
    "loans_d.isnull().sum()"
   ]
  },
  {
   "cell_type": "markdown",
   "metadata": {},
   "source": [
    "## Handling Categorical Columns"
   ]
  },
  {
   "cell_type": "markdown",
   "metadata": {},
   "source": [
    "Missing values are handled now lets convert all categorical columns into numerical before applying machine learning model"
   ]
  },
  {
   "cell_type": "code",
   "execution_count": 21,
   "metadata": {
    "scrolled": true
   },
   "outputs": [
    {
     "data": {
      "text/plain": [
       "Index(['term', 'int_rate', 'emp_length', 'home_ownership',\n",
       "       'verification_status', 'purpose', 'title', 'addr_state',\n",
       "       'earliest_cr_line', 'revol_util', 'last_credit_pull_d'],\n",
       "      dtype='object')"
      ]
     },
     "execution_count": 21,
     "metadata": {},
     "output_type": "execute_result"
    }
   ],
   "source": [
    "loans_d.select_dtypes(include=['object']).columns"
   ]
  },
  {
   "cell_type": "markdown",
   "metadata": {},
   "source": [
    "There are total 11 columns are categorical lets check how far it's true, we will explore the unique values of each column and confirm"
   ]
  },
  {
   "cell_type": "code",
   "execution_count": 22,
   "metadata": {},
   "outputs": [
    {
     "data": {
      "text/plain": [
       " 10.99%    906\n",
       " 11.49%    770\n",
       "  7.51%    756\n",
       " 13.49%    747\n",
       "  7.88%    701\n",
       "          ... \n",
       " 18.72%      1\n",
       " 16.20%      1\n",
       " 16.33%      1\n",
       " 16.71%      1\n",
       " 24.59%      1\n",
       "Name: int_rate, Length: 371, dtype: int64"
      ]
     },
     "execution_count": 22,
     "metadata": {},
     "output_type": "execute_result"
    }
   ],
   "source": [
    "loans_d.int_rate.value_counts()"
   ]
  },
  {
   "cell_type": "code",
   "execution_count": 23,
   "metadata": {},
   "outputs": [
    {
     "data": {
      "text/plain": [
       "0%        924\n",
       "0.2%       62\n",
       "63%        61\n",
       "40.7%      57\n",
       "66.7%      56\n",
       "         ... \n",
       "0.16%       1\n",
       "60.69%      1\n",
       "16.02%      1\n",
       "4.85%       1\n",
       "49.63%      1\n",
       "Name: revol_util, Length: 1086, dtype: int64"
      ]
     },
     "execution_count": 23,
     "metadata": {},
     "output_type": "execute_result"
    }
   ],
   "source": [
    "loans_d.revol_util.value_counts()"
   ]
  },
  {
   "cell_type": "markdown",
   "metadata": {},
   "source": [
    "It seems like int_rate and revol_util are numerical columns intrest rate but in dataframe it read as categorical due to percentage symbol at the end of each value so these 2 columns just we strip off the '%' symbol for each record and make it as numerical columns"
   ]
  },
  {
   "cell_type": "code",
   "execution_count": 24,
   "metadata": {},
   "outputs": [],
   "source": [
    "# Converting categorical to numerical\n",
    "loans_d.int_rate = loans_d.int_rate.str.rstrip('%').astype('float')"
   ]
  },
  {
   "cell_type": "code",
   "execution_count": 25,
   "metadata": {},
   "outputs": [],
   "source": [
    "# Converting categorical to numerical\n",
    "loans_d.revol_util = loans_d.revol_util.str.rstrip('%').astype('float')"
   ]
  },
  {
   "cell_type": "code",
   "execution_count": 26,
   "metadata": {},
   "outputs": [
    {
     "data": {
      "text/plain": [
       "10.99    906\n",
       "11.49    770\n",
       "7.51     756\n",
       "13.49    747\n",
       "7.88     701\n",
       "        ... \n",
       "18.72      1\n",
       "16.33      1\n",
       "17.34      1\n",
       "13.84      1\n",
       "17.54      1\n",
       "Name: int_rate, Length: 371, dtype: int64"
      ]
     },
     "execution_count": 26,
     "metadata": {},
     "output_type": "execute_result"
    }
   ],
   "source": [
    "loans_d.int_rate.value_counts()"
   ]
  },
  {
   "cell_type": "code",
   "execution_count": 27,
   "metadata": {},
   "outputs": [
    {
     "data": {
      "text/plain": [
       "0.00     924\n",
       "0.20      62\n",
       "63.00     61\n",
       "40.70     57\n",
       "66.70     56\n",
       "        ... \n",
       "0.04       1\n",
       "24.66      1\n",
       "37.63      1\n",
       "18.82      1\n",
       "8.58       1\n",
       "Name: revol_util, Length: 1086, dtype: int64"
      ]
     },
     "execution_count": 27,
     "metadata": {},
     "output_type": "execute_result"
    }
   ],
   "source": [
    "loans_d.revol_util.value_counts()"
   ]
  },
  {
   "cell_type": "code",
   "execution_count": 28,
   "metadata": {},
   "outputs": [
    {
     "name": "stdout",
     "output_type": "stream",
     "text": [
      "RENT        20181\n",
      "MORTGAGE    18959\n",
      "OWN          3251\n",
      "OTHER         136\n",
      "NONE            8\n",
      "Name: home_ownership, dtype: int64 \n",
      "\n",
      "Not Verified       18758\n",
      "Verified           13471\n",
      "Source Verified    10306\n",
      "Name: verification_status, dtype: int64 \n",
      "\n",
      "10+ years    9369\n",
      "< 1 year     5062\n",
      "2 years      4743\n",
      "3 years      4364\n",
      "4 years      3649\n",
      "1 year       3595\n",
      "5 years      3458\n",
      "6 years      2375\n",
      "7 years      1875\n",
      "8 years      1592\n",
      "9 years      1341\n",
      "Name: emp_length, dtype: int64 \n",
      "\n",
      " 36 months    31534\n",
      " 60 months    11001\n",
      "Name: term, dtype: int64 \n",
      "\n",
      "CA    7429\n",
      "NY    4065\n",
      "FL    3104\n",
      "TX    2915\n",
      "NJ    1988\n",
      "IL    1672\n",
      "PA    1651\n",
      "GA    1503\n",
      "VA    1487\n",
      "MA    1438\n",
      "OH    1329\n",
      "MD    1125\n",
      "AZ     933\n",
      "WA     888\n",
      "CO     857\n",
      "NC     830\n",
      "CT     816\n",
      "MI     796\n",
      "MO     765\n",
      "MN     652\n",
      "NV     527\n",
      "WI     516\n",
      "SC     489\n",
      "AL     484\n",
      "OR     468\n",
      "LA     461\n",
      "KY     359\n",
      "OK     317\n",
      "KS     298\n",
      "UT     278\n",
      "AR     261\n",
      "DC     224\n",
      "RI     208\n",
      "NM     205\n",
      "NH     188\n",
      "WV     187\n",
      "HI     181\n",
      "DE     136\n",
      "MT      96\n",
      "WY      87\n",
      "AK      86\n",
      "SD      67\n",
      "VT      57\n",
      "TN      32\n",
      "MS      26\n",
      "IN      19\n",
      "IA      12\n",
      "NE      11\n",
      "ID       9\n",
      "ME       3\n",
      "Name: addr_state, dtype: int64 \n",
      "\n"
     ]
    }
   ],
   "source": [
    "cols = ['home_ownership', 'verification_status', 'emp_length', 'term', 'addr_state']\n",
    "for i in cols:\n",
    "    print(loans[i].value_counts(),'\\n')"
   ]
  },
  {
   "cell_type": "code",
   "execution_count": 29,
   "metadata": {},
   "outputs": [
    {
     "name": "stdout",
     "output_type": "stream",
     "text": [
      "Debt Consolidation                          2259\n",
      "Debt Consolidation Loan                     1760\n",
      "Personal Loan                                708\n",
      "Consolidation                                547\n",
      "debt consolidation                           532\n",
      "                                            ... \n",
      "Friend's Italian Wedding                       1\n",
      "Home Improvement Cards Payoff                  1\n",
      "Recent College Grad Moving to Job Locati       1\n",
      "out of debt?                                   1\n",
      "Lawyer Fee                                     1\n",
      "Name: title, Length: 21264, dtype: int64\n",
      "debt_consolidation    19776\n",
      "credit_card            5477\n",
      "other                  4425\n",
      "home_improvement       3199\n",
      "major_purchase         2311\n",
      "small_business         1992\n",
      "car                    1615\n",
      "wedding                1004\n",
      "medical                 753\n",
      "moving                  629\n",
      "house                   426\n",
      "educational             422\n",
      "vacation                400\n",
      "renewable_energy        106\n",
      "Name: purpose, dtype: int64\n"
     ]
    }
   ],
   "source": [
    "print(loans['title'].value_counts())\n",
    "print(loans['purpose'].value_counts())"
   ]
  },
  {
   "cell_type": "code",
   "execution_count": 30,
   "metadata": {},
   "outputs": [
    {
     "name": "stdout",
     "output_type": "stream",
     "text": [
      "14  --  18881\n"
     ]
    }
   ],
   "source": [
    "print(len(loans_d.purpose.unique()),\" -- \",len(loans_d.title.unique()))"
   ]
  },
  {
   "cell_type": "markdown",
   "metadata": {},
   "source": [
    "It seems purpose and title both columns conveys same information and purpose have minimum number of unique values so it's easy to convert into numerical column so we can drop title column.\n",
    "\n",
    "last_credit_pull_d,earliest_cr_line these columns consist date values it needs lot of feature engineering to be potentially useful so we drop these columns too.\n",
    "\n",
    "addr_state column has 49 unique values it's very complex if we create 49 dummies the dataframe will be very large and complex so we will drop this column too."
   ]
  },
  {
   "cell_type": "code",
   "execution_count": 31,
   "metadata": {},
   "outputs": [],
   "source": [
    "loans_d.drop(['last_credit_pull_d','addr_state','title','earliest_cr_line'],axis=1,inplace=True)"
   ]
  },
  {
   "cell_type": "code",
   "execution_count": 32,
   "metadata": {},
   "outputs": [],
   "source": [
    "# Clean emp_length column\n",
    "mapping_dict = {\n",
    "    \"emp_length\": {\n",
    "        \"10+ years\": 10,\n",
    "        \"9 years\": 9,\n",
    "        \"8 years\": 8,\n",
    "        \"7 years\": 7,\n",
    "        \"6 years\": 6,\n",
    "        \"5 years\": 5,\n",
    "        \"4 years\": 4,\n",
    "        \"3 years\": 3,\n",
    "        \"2 years\": 2,\n",
    "        \"1 year\": 1,\n",
    "        \"< 1 year\": 0,\n",
    "        \"n/a\": 0\n",
    "    }\n",
    "}\n",
    "\n",
    "loans_d=loans_d.replace(mapping_dict)"
   ]
  },
  {
   "cell_type": "code",
   "execution_count": 33,
   "metadata": {},
   "outputs": [],
   "source": [
    "loans_d.emp_length = loans_d.emp_length.astype('int64')"
   ]
  },
  {
   "cell_type": "code",
   "execution_count": 34,
   "metadata": {
    "scrolled": true
   },
   "outputs": [
    {
     "data": {
      "text/plain": [
       "Index(['term', 'home_ownership', 'verification_status', 'purpose'], dtype='object')"
      ]
     },
     "execution_count": 34,
     "metadata": {},
     "output_type": "execute_result"
    }
   ],
   "source": [
    "loans_d.select_dtypes(include=['object']).columns"
   ]
  },
  {
   "cell_type": "markdown",
   "metadata": {},
   "source": [
    "Convert above categorical columns to numerical columns by creating dummies"
   ]
  },
  {
   "cell_type": "markdown",
   "metadata": {},
   "source": [
    "### Creating dummies"
   ]
  },
  {
   "cell_type": "code",
   "execution_count": 35,
   "metadata": {},
   "outputs": [],
   "source": [
    "dummy_df=pd.get_dummies(loans_d[['home_ownership','verification_status','purpose','term']])"
   ]
  },
  {
   "cell_type": "code",
   "execution_count": 36,
   "metadata": {},
   "outputs": [],
   "source": [
    "loans_d=pd.concat([loans_d,dummy_df],axis=1)"
   ]
  },
  {
   "cell_type": "code",
   "execution_count": 37,
   "metadata": {},
   "outputs": [],
   "source": [
    "loans_d=loans_d.drop(['home_ownership','verification_status','purpose','term'],axis=1)"
   ]
  },
  {
   "cell_type": "markdown",
   "metadata": {},
   "source": [
    "### Now all exploratory data analysis and data cleaning and preprocessing is done now the dataframe is ready for modelling"
   ]
  },
  {
   "cell_type": "code",
   "execution_count": 38,
   "metadata": {},
   "outputs": [],
   "source": [
    "cleaned_loans = loans_d.copy()"
   ]
  },
  {
   "cell_type": "code",
   "execution_count": 39,
   "metadata": {},
   "outputs": [
    {
     "name": "stdout",
     "output_type": "stream",
     "text": [
      "<class 'pandas.core.frame.DataFrame'>\n",
      "Int64Index: 37675 entries, 0 to 39785\n",
      "Data columns (total 38 columns):\n",
      "loan_amnt                              37675 non-null float64\n",
      "int_rate                               37675 non-null float64\n",
      "installment                            37675 non-null float64\n",
      "emp_length                             37675 non-null int64\n",
      "annual_inc                             37675 non-null float64\n",
      "loan_status                            37675 non-null int64\n",
      "dti                                    37675 non-null float64\n",
      "delinq_2yrs                            37675 non-null float64\n",
      "inq_last_6mths                         37675 non-null float64\n",
      "open_acc                               37675 non-null float64\n",
      "pub_rec                                37675 non-null float64\n",
      "revol_bal                              37675 non-null float64\n",
      "revol_util                             37675 non-null float64\n",
      "total_acc                              37675 non-null float64\n",
      "home_ownership_MORTGAGE                37675 non-null uint8\n",
      "home_ownership_NONE                    37675 non-null uint8\n",
      "home_ownership_OTHER                   37675 non-null uint8\n",
      "home_ownership_OWN                     37675 non-null uint8\n",
      "home_ownership_RENT                    37675 non-null uint8\n",
      "verification_status_Not Verified       37675 non-null uint8\n",
      "verification_status_Source Verified    37675 non-null uint8\n",
      "verification_status_Verified           37675 non-null uint8\n",
      "purpose_car                            37675 non-null uint8\n",
      "purpose_credit_card                    37675 non-null uint8\n",
      "purpose_debt_consolidation             37675 non-null uint8\n",
      "purpose_educational                    37675 non-null uint8\n",
      "purpose_home_improvement               37675 non-null uint8\n",
      "purpose_house                          37675 non-null uint8\n",
      "purpose_major_purchase                 37675 non-null uint8\n",
      "purpose_medical                        37675 non-null uint8\n",
      "purpose_moving                         37675 non-null uint8\n",
      "purpose_other                          37675 non-null uint8\n",
      "purpose_renewable_energy               37675 non-null uint8\n",
      "purpose_small_business                 37675 non-null uint8\n",
      "purpose_vacation                       37675 non-null uint8\n",
      "purpose_wedding                        37675 non-null uint8\n",
      "term_ 36 months                        37675 non-null uint8\n",
      "term_ 60 months                        37675 non-null uint8\n",
      "dtypes: float64(12), int64(2), uint8(24)\n",
      "memory usage: 5.2 MB\n"
     ]
    }
   ],
   "source": [
    "cleaned_loans.info()"
   ]
  },
  {
   "cell_type": "markdown",
   "metadata": {},
   "source": [
    "Before diving into modelling we think about error metric since we are solving classifications problem we have various metrics in confusion matrix,in this case we are  mostly concerned about FALSE POSITIVES and FALSE NEGATIVES.Both of these are different types of misclassifications. With a false positive, we predict that a loan will be paid off on time, but it actually isn't. This costs us money, since we fund loans that lose us money. With a false negative, we predict that a loan won't be paid off on time, but it actually would be paid off on time. This loses us potential money, since we didn't fund a loan that actually would have been paid off.\n",
    "\n",
    "Since we're viewing this problem from the standpoint of a conservative investor, we need to treat false positives differently than false negatives. A conservative investor would want to minimize risk and avoid false positives as much as possible. They'd be more secure with missing out on opportunities (false negatives) than they would be with funding a risky loan (false positives)."
   ]
  },
  {
   "cell_type": "markdown",
   "metadata": {},
   "source": [
    "So we will optimize for\n",
    "\n",
    "1)High True Positive Rate(TPR)\n",
    "\n",
    "2)Low False Positive Rate(FPR)"
   ]
  },
  {
   "cell_type": "markdown",
   "metadata": {},
   "source": [
    "### Handling Imbalance Dataset"
   ]
  },
  {
   "cell_type": "markdown",
   "metadata": {},
   "source": [
    "Our data has imbalance we have class-1 almost 6 times greater than class-0 this leads to model bias towards predicting class 1"
   ]
  },
  {
   "cell_type": "code",
   "execution_count": 40,
   "metadata": {
    "scrolled": true
   },
   "outputs": [
    {
     "name": "stdout",
     "output_type": "stream",
     "text": [
      "Positive examples = 32286\n",
      "Negative examples = 5389\n",
      "Proportion of positive to negative examples = 599.11%\n"
     ]
    },
    {
     "data": {
      "image/png": "[encoded data removed]",
      "text/plain": [
       "<Figure size 576x432 with 1 Axes>"
      ]
     },
     "metadata": {
      "needs_background": "light"
     },
     "output_type": "display_data"
    }
   ],
   "source": [
    "pos = cleaned_loans[cleaned_loans[\"loan_status\"] == 1].shape[0]\n",
    "neg = cleaned_loans[cleaned_loans[\"loan_status\"] == 0].shape[0]\n",
    "print(f\"Positive examples = {pos}\")\n",
    "print(f\"Negative examples = {neg}\")\n",
    "print(f\"Proportion of positive to negative examples = {(pos / neg) * 100:.2f}%\")\n",
    "plt.figure(figsize=(8, 6))\n",
    "sns.countplot(cleaned_loans[\"loan_status\"])\n",
    "plt.xticks((0, 1), [\"Charged Off\", \"Paid On-time\"])\n",
    "plt.xlabel(\"\")\n",
    "plt.ylabel(\"Count\")\n",
    "plt.title(\"Class counts\", y=1, fontdict={\"fontsize\": 20});"
   ]
  },
  {
   "cell_type": "markdown",
   "metadata": {},
   "source": [
    "To handle imbalance data in classification problems we have few techniques\n",
    "\n",
    "1)Oversampling\n",
    "\n",
    "2)Undersampling\n",
    "\n",
    "3)Penalty for misclassification of minority class."
   ]
  },
  {
   "cell_type": "markdown",
   "metadata": {},
   "source": [
    "We have to handle this scenario based on our objective, our objective is as a point of view of conservative investor more concern about false positive i.e we are predicting 1 which is 0 is more loss for our investor than false negative.\n",
    "\n",
    "Undersampling - we can't do this because we will lose some information this technique is good if we have huge like millions of data.\n",
    "\n",
    "Oversampling - If we do oversampling the true proportion of data is missing i.e reality we training classifier with wrong proportion we have to mindfull based on our objective.\n",
    "\n",
    "So penalty method i choose here while model training we will tell to the classifier give more penalty for misclassification of minority class"
   ]
  },
  {
   "cell_type": "markdown",
   "metadata": {},
   "source": [
    "## Modeling"
   ]
  },
  {
   "cell_type": "markdown",
   "metadata": {},
   "source": [
    "Now our dataset has no missing values and all columns are numeric so it's ready for modeling to make predictions.\n",
    "Here we are solving binary classification problem so the first good algorithm is Logistic Regression.\n",
    "\n",
    "-->it's quick to train and we can iterate more quickly\n",
    "\n",
    "-->it's less prone to overfitting than more complex models like decision trees\n",
    "\n",
    "-->it's easy to interpret."
   ]
  },
  {
   "cell_type": "markdown",
   "metadata": {},
   "source": [
    "### Logistic Regression"
   ]
  },
  {
   "cell_type": "code",
   "execution_count": 41,
   "metadata": {},
   "outputs": [],
   "source": [
    "features = cleaned_loans.drop('loan_status',axis=1)\n",
    "target = cleaned_loans['loan_status']"
   ]
  },
  {
   "cell_type": "code",
   "execution_count": 42,
   "metadata": {},
   "outputs": [],
   "source": [
    "X_train, X_test, y_train, y_test = train_test_split(features, target, test_size = 0.3, random_state = 10,stratify = target )"
   ]
  },
  {
   "cell_type": "code",
   "execution_count": 115,
   "metadata": {},
   "outputs": [
    {
     "name": "stderr",
     "output_type": "stream",
     "text": [
      "C:\\Users\\Koushik\\Anaconda3\\lib\\site-packages\\sklearn\\linear_model\\_logistic.py:765: ConvergenceWarning: lbfgs failed to converge (status=1):\n",
      "STOP: TOTAL NO. of ITERATIONS REACHED LIMIT.\n",
      "\n",
      "Increase the number of iterations (max_iter) or scale the data as shown in:\n",
      "    https://scikit-learn.org/stable/modules/preprocessing.html\n",
      "Please also refer to the documentation for alternative solver options:\n",
      "    https://scikit-learn.org/stable/modules/linear_model.html#logistic-regression\n",
      "  extra_warning_msg=_LOGISTIC_SOLVER_CONVERGENCE_MSG)\n"
     ]
    }
   ],
   "source": [
    "lr=LogisticRegression()\n",
    "model=lr.fit(X_train,y_train)"
   ]
  },
  {
   "cell_type": "code",
   "execution_count": 116,
   "metadata": {},
   "outputs": [],
   "source": [
    "probs=model.predict_proba(X_test)\n",
    "preds = probs[:,1]"
   ]
  },
  {
   "cell_type": "code",
   "execution_count": 117,
   "metadata": {},
   "outputs": [
    {
     "data": {
      "text/plain": [
       "0.5634995762425632"
      ]
     },
     "execution_count": 117,
     "metadata": {},
     "output_type": "execute_result"
    }
   ],
   "source": [
    "metrics.roc_auc_score(y_test,preds)"
   ]
  },
  {
   "cell_type": "code",
   "execution_count": 118,
   "metadata": {},
   "outputs": [
    {
     "data": {
      "image/png": "[encoded data removed]",
      "text/plain": [
       "<Figure size 432x288 with 1 Axes>"
      ]
     },
     "metadata": {
      "needs_background": "light"
     },
     "output_type": "display_data"
    }
   ],
   "source": [
    "fpr, tpr, threshold = metrics.roc_curve(y_test, preds)\n",
    "logit_roc_auc = metrics.auc(fpr, tpr)\n",
    "\n",
    "plt.plot(fpr, tpr, label='Logistic Regression Base (area = %0.2f)' % logit_roc_auc)\n",
    "plt.plot([0, 1], [0, 1],'r--')\n",
    "plt.xlim([0.0, 1.0])\n",
    "plt.ylim([0.0, 1.05])\n",
    "plt.xlabel('False Positive Rate')\n",
    "plt.ylabel('True Positive Rate')\n",
    "plt.title('Receiver operating characteristic')\n",
    "plt.legend(loc=\"lower right\")\n",
    "plt.savefig('Log_ROC')\n",
    "plt.show()"
   ]
  },
  {
   "cell_type": "markdown",
   "metadata": {},
   "source": [
    "#### After using class_weight paramater penalty"
   ]
  },
  {
   "cell_type": "code",
   "execution_count": 119,
   "metadata": {},
   "outputs": [],
   "source": [
    "lr=LogisticRegression(class_weight = \"balanced\")\n",
    "model=lr.fit(X_train,y_train)"
   ]
  },
  {
   "cell_type": "code",
   "execution_count": 120,
   "metadata": {},
   "outputs": [],
   "source": [
    "probs=model.predict_proba(X_test)\n",
    "preds = probs[:,1]"
   ]
  },
  {
   "cell_type": "code",
   "execution_count": 121,
   "metadata": {},
   "outputs": [
    {
     "data": {
      "text/plain": [
       "0.6329037274437115"
      ]
     },
     "execution_count": 121,
     "metadata": {},
     "output_type": "execute_result"
    }
   ],
   "source": [
    "metrics.roc_auc_score(y_test,preds)"
   ]
  },
  {
   "cell_type": "code",
   "execution_count": 122,
   "metadata": {},
   "outputs": [
    {
     "data": {
      "image/png": "[encoded data removed]",
      "text/plain": [
       "<Figure size 432x288 with 1 Axes>"
      ]
     },
     "metadata": {
      "needs_background": "light"
     },
     "output_type": "display_data"
    }
   ],
   "source": [
    "fpr, tpr, threshold = metrics.roc_curve(y_test, preds)\n",
    "logit_roc_auc = metrics.auc(fpr, tpr)\n",
    "\n",
    "plt.plot(fpr, tpr, label='Logistic Regression Base (area = %0.2f)' % logit_roc_auc)\n",
    "plt.plot([0, 1], [0, 1],'r--')\n",
    "plt.xlim([0.0, 1.0])\n",
    "plt.ylim([0.0, 1.05])\n",
    "plt.xlabel('False Positive Rate')\n",
    "plt.ylabel('True Positive Rate')\n",
    "plt.title('Receiver operating characteristic')\n",
    "plt.legend(loc=\"lower right\")\n",
    "plt.savefig('Log_ROC')\n",
    "plt.show()"
   ]
  },
  {
   "cell_type": "markdown",
   "metadata": {},
   "source": [
    "## Hyper parameter Tuning"
   ]
  },
  {
   "cell_type": "code",
   "execution_count": 123,
   "metadata": {},
   "outputs": [],
   "source": [
    "param_grid = [\n",
    "    {\n",
    "        \n",
    "     'penalty' : ['l1', 'l2'],\n",
    "    'C' : np.logspace(-4, 4, 20),\n",
    "    'solver' : ['liblinear'],\n",
    "        'class_weight' : [\"balanced\",{0:10,1:1},{0:100,1:1}]\n",
    "    \n",
    "    }]"
   ]
  },
  {
   "cell_type": "code",
   "execution_count": 124,
   "metadata": {},
   "outputs": [
    {
     "data": {
      "text/plain": [
       "dict_keys(['C', 'class_weight', 'dual', 'fit_intercept', 'intercept_scaling', 'l1_ratio', 'max_iter', 'multi_class', 'n_jobs', 'penalty', 'random_state', 'solver', 'tol', 'verbose', 'warm_start'])"
      ]
     },
     "execution_count": 124,
     "metadata": {},
     "output_type": "execute_result"
    }
   ],
   "source": [
    "lr.get_params().keys()"
   ]
  },
  {
   "cell_type": "code",
   "execution_count": 132,
   "metadata": {},
   "outputs": [
    {
     "name": "stdout",
     "output_type": "stream",
     "text": [
      "Log Reg Best Parameter & Score:\n",
      "{'C': 29.763514416313132, 'class_weight': 'balanced', 'penalty': 'l2', 'solver': 'liblinear'}\n",
      "0.6630140239069602\n"
     ]
    }
   ],
   "source": [
    "logreg_cv = GridSearchCV(LogisticRegression(), param_grid, cv=5)\n",
    "logreg_cv.fit(X_train, y_train)\n",
    "print('Log Reg Best Parameter & Score:')\n",
    "print(logreg_cv.best_params_)\n",
    "print(logreg_cv.best_score_)\n"
   ]
  },
  {
   "cell_type": "code",
   "execution_count": 133,
   "metadata": {},
   "outputs": [],
   "source": [
    "probs=logreg_cv.predict_proba(X_test)\n",
    "preds = probs[:,1]"
   ]
  },
  {
   "cell_type": "code",
   "execution_count": 134,
   "metadata": {},
   "outputs": [
    {
     "data": {
      "text/plain": [
       "0.7011681965223159"
      ]
     },
     "execution_count": 134,
     "metadata": {},
     "output_type": "execute_result"
    }
   ],
   "source": [
    "metrics.roc_auc_score(y_test,preds)"
   ]
  },
  {
   "cell_type": "code",
   "execution_count": 135,
   "metadata": {},
   "outputs": [
    {
     "data": {
      "image/png": "[encoded data removed]",
      "text/plain": [
       "<Figure size 432x288 with 1 Axes>"
      ]
     },
     "metadata": {
      "needs_background": "light"
     },
     "output_type": "display_data"
    }
   ],
   "source": [
    "fpr, tpr, threshold = metrics.roc_curve(y_test, preds)\n",
    "logit_roc_auc = metrics.auc(fpr, tpr)\n",
    "\n",
    "plt.plot(fpr, tpr, label='Logistic Regression Base (area = %0.2f)' % logit_roc_auc)\n",
    "plt.plot([0, 1], [0, 1],'r--')\n",
    "plt.xlim([0.0, 1.0])\n",
    "plt.ylim([0.0, 1.05])\n",
    "plt.xlabel('False Positive Rate')\n",
    "plt.ylabel('True Positive Rate')\n",
    "plt.title('Receiver operating characteristic')\n",
    "plt.legend(loc=\"lower right\")\n",
    "plt.savefig('Log_ROC')\n",
    "plt.show()"
   ]
  },
  {
   "cell_type": "markdown",
   "metadata": {},
   "source": [
    "After hyper parameter tuning we improved our auc score almost from 63 to 70%"
   ]
  },
  {
   "cell_type": "markdown",
   "metadata": {},
   "source": [
    "Let's try some more ensembles classifiers"
   ]
  },
  {
   "cell_type": "markdown",
   "metadata": {},
   "source": [
    "## Random Forest Classifier"
   ]
  },
  {
   "cell_type": "code",
   "execution_count": 176,
   "metadata": {},
   "outputs": [
    {
     "data": {
      "text/plain": [
       "RandomForestClassifier(class_weight='balanced', n_estimators=150)"
      ]
     },
     "execution_count": 176,
     "metadata": {},
     "output_type": "execute_result"
    }
   ],
   "source": [
    "rf=RandomForestClassifier(class_weight = \"balanced\")\n",
    "rf.fit(X_train,y_train)"
   ]
  },
  {
   "cell_type": "code",
   "execution_count": 177,
   "metadata": {},
   "outputs": [],
   "source": [
    "probs=rf.predict_proba(X_test)\n",
    "preds=probs[:,1]"
   ]
  },
  {
   "cell_type": "code",
   "execution_count": 178,
   "metadata": {},
   "outputs": [
    {
     "data": {
      "text/plain": [
       "0.6864157935807741"
      ]
     },
     "execution_count": 178,
     "metadata": {},
     "output_type": "execute_result"
    }
   ],
   "source": [
    "metrics.roc_auc_score(y_test,preds)"
   ]
  },
  {
   "cell_type": "code",
   "execution_count": 179,
   "metadata": {},
   "outputs": [
    {
     "data": {
      "image/png": "[encoded data removed]",
      "text/plain": [
       "<Figure size 432x288 with 1 Axes>"
      ]
     },
     "metadata": {
      "needs_background": "light"
     },
     "output_type": "display_data"
    }
   ],
   "source": [
    "fpr, tpr, threshold = metrics.roc_curve(y_test, preds)\n",
    "logit_roc_auc = metrics.auc(fpr, tpr)\n",
    "\n",
    "plt.plot(fpr, tpr, label='Logistic Regression Base (area = %0.2f)' % logit_roc_auc)\n",
    "plt.plot([0, 1], [0, 1],'r--')\n",
    "plt.xlim([0.0, 1.0])\n",
    "plt.ylim([0.0, 1.05])\n",
    "plt.xlabel('False Positive Rate')\n",
    "plt.ylabel('True Positive Rate')\n",
    "plt.title('Receiver operating characteristic')\n",
    "plt.legend(loc=\"lower right\")\n",
    "plt.savefig('Log_ROC')\n",
    "plt.show()"
   ]
  },
  {
   "cell_type": "markdown",
   "metadata": {},
   "source": [
    "### Xgboost Ensemble"
   ]
  },
  {
   "cell_type": "code",
   "execution_count": 156,
   "metadata": {},
   "outputs": [],
   "source": [
    "from xgboost import XGBClassifier"
   ]
  },
  {
   "cell_type": "code",
   "execution_count": 169,
   "metadata": {},
   "outputs": [
    {
     "data": {
      "text/plain": [
       "XGBClassifier()"
      ]
     },
     "execution_count": 169,
     "metadata": {},
     "output_type": "execute_result"
    }
   ],
   "source": [
    "xgb = XGBClassifier()\n",
    "xgb.fit(X_train,y_train)"
   ]
  },
  {
   "cell_type": "code",
   "execution_count": 170,
   "metadata": {},
   "outputs": [],
   "source": [
    "probs=xgb.predict_proba(X_test)\n",
    "preds=probs[:,1]"
   ]
  },
  {
   "cell_type": "code",
   "execution_count": 171,
   "metadata": {},
   "outputs": [
    {
     "data": {
      "text/plain": [
       "0.7028375594789564"
      ]
     },
     "execution_count": 171,
     "metadata": {},
     "output_type": "execute_result"
    }
   ],
   "source": [
    "metrics.roc_auc_score(y_test,preds)"
   ]
  },
  {
   "cell_type": "code",
   "execution_count": 172,
   "metadata": {},
   "outputs": [
    {
     "data": {
      "image/png": "[encoded data removed]",
      "text/plain": [
       "<Figure size 432x288 with 1 Axes>"
      ]
     },
     "metadata": {
      "needs_background": "light"
     },
     "output_type": "display_data"
    }
   ],
   "source": [
    "fpr, tpr, threshold = metrics.roc_curve(y_test, preds)\n",
    "logit_roc_auc = metrics.auc(fpr, tpr)\n",
    "\n",
    "plt.plot(fpr, tpr, label='Logistic Regression Base (area = %0.2f)' % logit_roc_auc)\n",
    "plt.plot([0, 1], [0, 1],'r--')\n",
    "plt.xlim([0.0, 1.0])\n",
    "plt.ylim([0.0, 1.05])\n",
    "plt.xlabel('False Positive Rate')\n",
    "plt.ylabel('True Positive Rate')\n",
    "plt.title('Receiver operating characteristic')\n",
    "plt.legend(loc=\"lower right\")\n",
    "plt.savefig('Log_ROC')\n",
    "plt.show()"
   ]
  },
  {
   "cell_type": "markdown",
   "metadata": {},
   "source": [
    "## Conclusion"
   ]
  },
  {
   "cell_type": "markdown",
   "metadata": {},
   "source": [
    "As we try different models like logistic regression,Hyper parameter tuning for logistic regression , and also used some ensemble methods like random forest and xgboost\n",
    "\n",
    "We got good roc_auc score for logistic regression 70% after hyper parameter tuning and xgboost classifier directly given 70% on imbalanced data so in conclusion we can go for logistic regression for out loan paid on time prediction as popuplar in industry too."
   ]
  },
  {
   "cell_type": "code",
   "execution_count": null,
   "metadata": {},
   "outputs": [],
   "source": []
  }
 ],
 "metadata": {
  "kernelspec": {
   "display_name": "Python 3",
   "language": "python",
   "name": "python3"
  },
  "language_info": {
   "codemirror_mode": {
    "name": "ipython",
    "version": 3
   },
   "file_extension": ".py",
   "mimetype": "text/x-python",
   "name": "python",
   "nbconvert_exporter": "python",
   "pygments_lexer": "ipython3",
   "version": "3.7.4"
  }
 },
 "nbformat": 4,
 "nbformat_minor": 2
}
